{
 "cells": [
  {
   "cell_type": "code",
   "execution_count": 1,
   "id": "55809a9b",
   "metadata": {},
   "outputs": [],
   "source": [
    "import pandas as pd\n",
    "import numpy as np\n",
    "import matplotlib.pyplot as plt\n",
    "import seaborn as sns"
   ]
  },
  {
   "cell_type": "code",
   "execution_count": 2,
   "id": "5c308229",
   "metadata": {},
   "outputs": [],
   "source": [
    "df=pd.read_csv('train_file.csv')"
   ]
  },
  {
   "cell_type": "code",
   "execution_count": 3,
   "id": "98d68f77",
   "metadata": {},
   "outputs": [
    {
     "data": {
      "text/html": [
       "<div>\n",
       "<style scoped>\n",
       "    .dataframe tbody tr th:only-of-type {\n",
       "        vertical-align: middle;\n",
       "    }\n",
       "\n",
       "    .dataframe tbody tr th {\n",
       "        vertical-align: top;\n",
       "    }\n",
       "\n",
       "    .dataframe thead th {\n",
       "        text-align: right;\n",
       "    }\n",
       "</style>\n",
       "<table border=\"1\" class=\"dataframe\">\n",
       "  <thead>\n",
       "    <tr style=\"text-align: right;\">\n",
       "      <th></th>\n",
       "      <th>ID</th>\n",
       "      <th>UsageClass</th>\n",
       "      <th>CheckoutType</th>\n",
       "      <th>CheckoutYear</th>\n",
       "      <th>CheckoutMonth</th>\n",
       "      <th>Checkouts</th>\n",
       "      <th>Title</th>\n",
       "      <th>Creator</th>\n",
       "      <th>Subjects</th>\n",
       "      <th>Publisher</th>\n",
       "      <th>PublicationYear</th>\n",
       "      <th>MaterialType</th>\n",
       "    </tr>\n",
       "  </thead>\n",
       "  <tbody>\n",
       "    <tr>\n",
       "      <th>0</th>\n",
       "      <td>1</td>\n",
       "      <td>Physical</td>\n",
       "      <td>Horizon</td>\n",
       "      <td>2005</td>\n",
       "      <td>4</td>\n",
       "      <td>1</td>\n",
       "      <td>Tidal wave</td>\n",
       "      <td>NaN</td>\n",
       "      <td>Tsunamis, Tsunamis Juvenile literature</td>\n",
       "      <td>NaN</td>\n",
       "      <td>NaN</td>\n",
       "      <td>BOOK</td>\n",
       "    </tr>\n",
       "    <tr>\n",
       "      <th>1</th>\n",
       "      <td>2</td>\n",
       "      <td>Physical</td>\n",
       "      <td>Horizon</td>\n",
       "      <td>2005</td>\n",
       "      <td>4</td>\n",
       "      <td>1</td>\n",
       "      <td>London holiday / Richard Peck.</td>\n",
       "      <td>Peck, Richard, 1934-</td>\n",
       "      <td>NaN</td>\n",
       "      <td>Viking,</td>\n",
       "      <td>1998.</td>\n",
       "      <td>BOOK</td>\n",
       "    </tr>\n",
       "    <tr>\n",
       "      <th>2</th>\n",
       "      <td>3</td>\n",
       "      <td>Physical</td>\n",
       "      <td>Horizon</td>\n",
       "      <td>2005</td>\n",
       "      <td>4</td>\n",
       "      <td>3</td>\n",
       "      <td>Cinco de Mayo : celebrating Hispanic pride / C...</td>\n",
       "      <td>Gnojewski, Carol</td>\n",
       "      <td>Cinco de Mayo Mexican holiday History Juvenile...</td>\n",
       "      <td>Enslow Publishers,</td>\n",
       "      <td>c2002.</td>\n",
       "      <td>BOOK</td>\n",
       "    </tr>\n",
       "    <tr>\n",
       "      <th>3</th>\n",
       "      <td>4</td>\n",
       "      <td>Physical</td>\n",
       "      <td>Horizon</td>\n",
       "      <td>2005</td>\n",
       "      <td>4</td>\n",
       "      <td>1</td>\n",
       "      <td>Annapolis</td>\n",
       "      <td>NaN</td>\n",
       "      <td>War stories, Historical fiction, Domestic fict...</td>\n",
       "      <td>NaN</td>\n",
       "      <td>NaN</td>\n",
       "      <td>BOOK</td>\n",
       "    </tr>\n",
       "    <tr>\n",
       "      <th>4</th>\n",
       "      <td>5</td>\n",
       "      <td>Physical</td>\n",
       "      <td>Horizon</td>\n",
       "      <td>2005</td>\n",
       "      <td>4</td>\n",
       "      <td>1</td>\n",
       "      <td>As a man thinketh</td>\n",
       "      <td>NaN</td>\n",
       "      <td>Thought and thinking</td>\n",
       "      <td>NaN</td>\n",
       "      <td>NaN</td>\n",
       "      <td>BOOK</td>\n",
       "    </tr>\n",
       "    <tr>\n",
       "      <th>...</th>\n",
       "      <td>...</td>\n",
       "      <td>...</td>\n",
       "      <td>...</td>\n",
       "      <td>...</td>\n",
       "      <td>...</td>\n",
       "      <td>...</td>\n",
       "      <td>...</td>\n",
       "      <td>...</td>\n",
       "      <td>...</td>\n",
       "      <td>...</td>\n",
       "      <td>...</td>\n",
       "      <td>...</td>\n",
       "    </tr>\n",
       "    <tr>\n",
       "      <th>31648</th>\n",
       "      <td>31649</td>\n",
       "      <td>Physical</td>\n",
       "      <td>Horizon</td>\n",
       "      <td>2005</td>\n",
       "      <td>4</td>\n",
       "      <td>2</td>\n",
       "      <td>California camping</td>\n",
       "      <td>NaN</td>\n",
       "      <td>California Guidebooks, Camp sites facilities e...</td>\n",
       "      <td>NaN</td>\n",
       "      <td>NaN</td>\n",
       "      <td>BOOK</td>\n",
       "    </tr>\n",
       "    <tr>\n",
       "      <th>31649</th>\n",
       "      <td>31650</td>\n",
       "      <td>Physical</td>\n",
       "      <td>Horizon</td>\n",
       "      <td>2005</td>\n",
       "      <td>4</td>\n",
       "      <td>5</td>\n",
       "      <td>silent world of Nicholas Quinn</td>\n",
       "      <td>NaN</td>\n",
       "      <td>Morse Inspector Fictitious character Drama</td>\n",
       "      <td>NaN</td>\n",
       "      <td>NaN</td>\n",
       "      <td>VIDEOCASS</td>\n",
       "    </tr>\n",
       "    <tr>\n",
       "      <th>31650</th>\n",
       "      <td>31651</td>\n",
       "      <td>Physical</td>\n",
       "      <td>Horizon</td>\n",
       "      <td>2005</td>\n",
       "      <td>4</td>\n",
       "      <td>12</td>\n",
       "      <td>big Lebowski</td>\n",
       "      <td>NaN</td>\n",
       "      <td>Video recordings for the hearing impaired, Fea...</td>\n",
       "      <td>NaN</td>\n",
       "      <td>NaN</td>\n",
       "      <td>VIDEODISC</td>\n",
       "    </tr>\n",
       "    <tr>\n",
       "      <th>31651</th>\n",
       "      <td>31652</td>\n",
       "      <td>Physical</td>\n",
       "      <td>Horizon</td>\n",
       "      <td>2005</td>\n",
       "      <td>4</td>\n",
       "      <td>4</td>\n",
       "      <td>Fables. [3], Storybook love / Bill Willingham,...</td>\n",
       "      <td>Willingham, Bill</td>\n",
       "      <td>Fairy tales Comic books strips etc, Graphic no...</td>\n",
       "      <td>DC Comics,</td>\n",
       "      <td>c2004.</td>\n",
       "      <td>BOOK</td>\n",
       "    </tr>\n",
       "    <tr>\n",
       "      <th>31652</th>\n",
       "      <td>31653</td>\n",
       "      <td>Physical</td>\n",
       "      <td>Horizon</td>\n",
       "      <td>2005</td>\n",
       "      <td>4</td>\n",
       "      <td>2</td>\n",
       "      <td>ILLM HIGHER COMMAND</td>\n",
       "      <td>NaN</td>\n",
       "      <td>NaN</td>\n",
       "      <td>NaN</td>\n",
       "      <td>NaN</td>\n",
       "      <td>MIXED</td>\n",
       "    </tr>\n",
       "  </tbody>\n",
       "</table>\n",
       "<p>31653 rows × 12 columns</p>\n",
       "</div>"
      ],
      "text/plain": [
       "          ID UsageClass CheckoutType  CheckoutYear  CheckoutMonth  Checkouts  \\\n",
       "0          1   Physical      Horizon          2005              4          1   \n",
       "1          2   Physical      Horizon          2005              4          1   \n",
       "2          3   Physical      Horizon          2005              4          3   \n",
       "3          4   Physical      Horizon          2005              4          1   \n",
       "4          5   Physical      Horizon          2005              4          1   \n",
       "...      ...        ...          ...           ...            ...        ...   \n",
       "31648  31649   Physical      Horizon          2005              4          2   \n",
       "31649  31650   Physical      Horizon          2005              4          5   \n",
       "31650  31651   Physical      Horizon          2005              4         12   \n",
       "31651  31652   Physical      Horizon          2005              4          4   \n",
       "31652  31653   Physical      Horizon          2005              4          2   \n",
       "\n",
       "                                                   Title  \\\n",
       "0                                             Tidal wave   \n",
       "1                         London holiday / Richard Peck.   \n",
       "2      Cinco de Mayo : celebrating Hispanic pride / C...   \n",
       "3                                              Annapolis   \n",
       "4                                      As a man thinketh   \n",
       "...                                                  ...   \n",
       "31648                                 California camping   \n",
       "31649                     silent world of Nicholas Quinn   \n",
       "31650                                       big Lebowski   \n",
       "31651  Fables. [3], Storybook love / Bill Willingham,...   \n",
       "31652                                ILLM HIGHER COMMAND   \n",
       "\n",
       "                    Creator  \\\n",
       "0                       NaN   \n",
       "1      Peck, Richard, 1934-   \n",
       "2          Gnojewski, Carol   \n",
       "3                       NaN   \n",
       "4                       NaN   \n",
       "...                     ...   \n",
       "31648                   NaN   \n",
       "31649                   NaN   \n",
       "31650                   NaN   \n",
       "31651      Willingham, Bill   \n",
       "31652                   NaN   \n",
       "\n",
       "                                                Subjects           Publisher  \\\n",
       "0                 Tsunamis, Tsunamis Juvenile literature                 NaN   \n",
       "1                                                    NaN             Viking,   \n",
       "2      Cinco de Mayo Mexican holiday History Juvenile...  Enslow Publishers,   \n",
       "3      War stories, Historical fiction, Domestic fict...                 NaN   \n",
       "4                                   Thought and thinking                 NaN   \n",
       "...                                                  ...                 ...   \n",
       "31648  California Guidebooks, Camp sites facilities e...                 NaN   \n",
       "31649         Morse Inspector Fictitious character Drama                 NaN   \n",
       "31650  Video recordings for the hearing impaired, Fea...                 NaN   \n",
       "31651  Fairy tales Comic books strips etc, Graphic no...          DC Comics,   \n",
       "31652                                                NaN                 NaN   \n",
       "\n",
       "      PublicationYear MaterialType  \n",
       "0                 NaN         BOOK  \n",
       "1               1998.         BOOK  \n",
       "2              c2002.         BOOK  \n",
       "3                 NaN         BOOK  \n",
       "4                 NaN         BOOK  \n",
       "...               ...          ...  \n",
       "31648             NaN         BOOK  \n",
       "31649             NaN    VIDEOCASS  \n",
       "31650             NaN    VIDEODISC  \n",
       "31651          c2004.         BOOK  \n",
       "31652             NaN        MIXED  \n",
       "\n",
       "[31653 rows x 12 columns]"
      ]
     },
     "execution_count": 3,
     "metadata": {},
     "output_type": "execute_result"
    }
   ],
   "source": [
    "df"
   ]
  },
  {
   "cell_type": "code",
   "execution_count": 4,
   "id": "75a9bbf4",
   "metadata": {
    "scrolled": false
   },
   "outputs": [
    {
     "data": {
      "text/plain": [
       "ID                  0.000000\n",
       "UsageClass          0.000000\n",
       "CheckoutType        0.000000\n",
       "CheckoutYear        0.000000\n",
       "CheckoutMonth       0.000000\n",
       "Checkouts           0.000000\n",
       "Title               0.000000\n",
       "Creator            73.095757\n",
       "Subjects            5.569772\n",
       "Publisher          69.238303\n",
       "PublicationYear    69.285692\n",
       "MaterialType        0.000000\n",
       "dtype: float64"
      ]
     },
     "execution_count": 4,
     "metadata": {},
     "output_type": "execute_result"
    }
   ],
   "source": [
    "df.isna().mean()*100"
   ]
  },
  {
   "cell_type": "code",
   "execution_count": 5,
   "id": "c90a9189",
   "metadata": {},
   "outputs": [
    {
     "data": {
      "text/plain": [
       "('ID',\n",
       " 'UsageClass',\n",
       " 'CheckoutType',\n",
       " 'CheckoutYear',\n",
       " 'CheckoutYear',\n",
       " 'Checkouts ',\n",
       " 'Title',\n",
       " 'Creator',\n",
       " 'Subjects ',\n",
       " 'Publisher',\n",
       " ' PublicationYear')"
      ]
     },
     "execution_count": 5,
     "metadata": {},
     "output_type": "execute_result"
    }
   ],
   "source": [
    "'ID', 'UsageClass', 'CheckoutType' , 'CheckoutYear', 'CheckoutYear' ,'Checkouts ','Title' ,'Creator' ,'Subjects ','Publisher',' PublicationYear'"
   ]
  },
  {
   "cell_type": "code",
   "execution_count": 6,
   "id": "4ef8d7d6",
   "metadata": {},
   "outputs": [
    {
     "data": {
      "text/html": [
       "<div>\n",
       "<style scoped>\n",
       "    .dataframe tbody tr th:only-of-type {\n",
       "        vertical-align: middle;\n",
       "    }\n",
       "\n",
       "    .dataframe tbody tr th {\n",
       "        vertical-align: top;\n",
       "    }\n",
       "\n",
       "    .dataframe thead th {\n",
       "        text-align: right;\n",
       "    }\n",
       "</style>\n",
       "<table border=\"1\" class=\"dataframe\">\n",
       "  <thead>\n",
       "    <tr style=\"text-align: right;\">\n",
       "      <th></th>\n",
       "      <th>count</th>\n",
       "      <th>unique</th>\n",
       "      <th>top</th>\n",
       "      <th>freq</th>\n",
       "      <th>mean</th>\n",
       "      <th>std</th>\n",
       "      <th>min</th>\n",
       "      <th>25%</th>\n",
       "      <th>50%</th>\n",
       "      <th>75%</th>\n",
       "      <th>max</th>\n",
       "    </tr>\n",
       "  </thead>\n",
       "  <tbody>\n",
       "    <tr>\n",
       "      <th>ID</th>\n",
       "      <td>31653.0</td>\n",
       "      <td>NaN</td>\n",
       "      <td>NaN</td>\n",
       "      <td>NaN</td>\n",
       "      <td>15827.0</td>\n",
       "      <td>9137.578372</td>\n",
       "      <td>1.0</td>\n",
       "      <td>7914.0</td>\n",
       "      <td>15827.0</td>\n",
       "      <td>23740.0</td>\n",
       "      <td>31653.0</td>\n",
       "    </tr>\n",
       "    <tr>\n",
       "      <th>UsageClass</th>\n",
       "      <td>31653</td>\n",
       "      <td>1</td>\n",
       "      <td>Physical</td>\n",
       "      <td>31653</td>\n",
       "      <td>NaN</td>\n",
       "      <td>NaN</td>\n",
       "      <td>NaN</td>\n",
       "      <td>NaN</td>\n",
       "      <td>NaN</td>\n",
       "      <td>NaN</td>\n",
       "      <td>NaN</td>\n",
       "    </tr>\n",
       "    <tr>\n",
       "      <th>CheckoutType</th>\n",
       "      <td>31653</td>\n",
       "      <td>1</td>\n",
       "      <td>Horizon</td>\n",
       "      <td>31653</td>\n",
       "      <td>NaN</td>\n",
       "      <td>NaN</td>\n",
       "      <td>NaN</td>\n",
       "      <td>NaN</td>\n",
       "      <td>NaN</td>\n",
       "      <td>NaN</td>\n",
       "      <td>NaN</td>\n",
       "    </tr>\n",
       "    <tr>\n",
       "      <th>CheckoutYear</th>\n",
       "      <td>31653.0</td>\n",
       "      <td>NaN</td>\n",
       "      <td>NaN</td>\n",
       "      <td>NaN</td>\n",
       "      <td>2005.0</td>\n",
       "      <td>0.0</td>\n",
       "      <td>2005.0</td>\n",
       "      <td>2005.0</td>\n",
       "      <td>2005.0</td>\n",
       "      <td>2005.0</td>\n",
       "      <td>2005.0</td>\n",
       "    </tr>\n",
       "    <tr>\n",
       "      <th>CheckoutMonth</th>\n",
       "      <td>31653.0</td>\n",
       "      <td>NaN</td>\n",
       "      <td>NaN</td>\n",
       "      <td>NaN</td>\n",
       "      <td>4.0</td>\n",
       "      <td>0.0</td>\n",
       "      <td>4.0</td>\n",
       "      <td>4.0</td>\n",
       "      <td>4.0</td>\n",
       "      <td>4.0</td>\n",
       "      <td>4.0</td>\n",
       "    </tr>\n",
       "    <tr>\n",
       "      <th>Checkouts</th>\n",
       "      <td>31653.0</td>\n",
       "      <td>NaN</td>\n",
       "      <td>NaN</td>\n",
       "      <td>NaN</td>\n",
       "      <td>2.11743</td>\n",
       "      <td>2.629428</td>\n",
       "      <td>1.0</td>\n",
       "      <td>1.0</td>\n",
       "      <td>1.0</td>\n",
       "      <td>2.0</td>\n",
       "      <td>85.0</td>\n",
       "    </tr>\n",
       "    <tr>\n",
       "      <th>Title</th>\n",
       "      <td>31653</td>\n",
       "      <td>31653</td>\n",
       "      <td>Eating fractions / cooked, written, drafted, a...</td>\n",
       "      <td>1</td>\n",
       "      <td>NaN</td>\n",
       "      <td>NaN</td>\n",
       "      <td>NaN</td>\n",
       "      <td>NaN</td>\n",
       "      <td>NaN</td>\n",
       "      <td>NaN</td>\n",
       "      <td>NaN</td>\n",
       "    </tr>\n",
       "    <tr>\n",
       "      <th>Creator</th>\n",
       "      <td>8516</td>\n",
       "      <td>6731</td>\n",
       "      <td>Rylant, Cynthia</td>\n",
       "      <td>16</td>\n",
       "      <td>NaN</td>\n",
       "      <td>NaN</td>\n",
       "      <td>NaN</td>\n",
       "      <td>NaN</td>\n",
       "      <td>NaN</td>\n",
       "      <td>NaN</td>\n",
       "      <td>NaN</td>\n",
       "    </tr>\n",
       "    <tr>\n",
       "      <th>Subjects</th>\n",
       "      <td>29890</td>\n",
       "      <td>24755</td>\n",
       "      <td>Feature films</td>\n",
       "      <td>228</td>\n",
       "      <td>NaN</td>\n",
       "      <td>NaN</td>\n",
       "      <td>NaN</td>\n",
       "      <td>NaN</td>\n",
       "      <td>NaN</td>\n",
       "      <td>NaN</td>\n",
       "      <td>NaN</td>\n",
       "    </tr>\n",
       "    <tr>\n",
       "      <th>Publisher</th>\n",
       "      <td>9737</td>\n",
       "      <td>3519</td>\n",
       "      <td>Random House,</td>\n",
       "      <td>116</td>\n",
       "      <td>NaN</td>\n",
       "      <td>NaN</td>\n",
       "      <td>NaN</td>\n",
       "      <td>NaN</td>\n",
       "      <td>NaN</td>\n",
       "      <td>NaN</td>\n",
       "      <td>NaN</td>\n",
       "    </tr>\n",
       "    <tr>\n",
       "      <th>PublicationYear</th>\n",
       "      <td>9722</td>\n",
       "      <td>840</td>\n",
       "      <td>c2004.</td>\n",
       "      <td>573</td>\n",
       "      <td>NaN</td>\n",
       "      <td>NaN</td>\n",
       "      <td>NaN</td>\n",
       "      <td>NaN</td>\n",
       "      <td>NaN</td>\n",
       "      <td>NaN</td>\n",
       "      <td>NaN</td>\n",
       "    </tr>\n",
       "    <tr>\n",
       "      <th>MaterialType</th>\n",
       "      <td>31653</td>\n",
       "      <td>8</td>\n",
       "      <td>BOOK</td>\n",
       "      <td>21707</td>\n",
       "      <td>NaN</td>\n",
       "      <td>NaN</td>\n",
       "      <td>NaN</td>\n",
       "      <td>NaN</td>\n",
       "      <td>NaN</td>\n",
       "      <td>NaN</td>\n",
       "      <td>NaN</td>\n",
       "    </tr>\n",
       "  </tbody>\n",
       "</table>\n",
       "</div>"
      ],
      "text/plain": [
       "                   count unique  \\\n",
       "ID               31653.0    NaN   \n",
       "UsageClass         31653      1   \n",
       "CheckoutType       31653      1   \n",
       "CheckoutYear     31653.0    NaN   \n",
       "CheckoutMonth    31653.0    NaN   \n",
       "Checkouts        31653.0    NaN   \n",
       "Title              31653  31653   \n",
       "Creator             8516   6731   \n",
       "Subjects           29890  24755   \n",
       "Publisher           9737   3519   \n",
       "PublicationYear     9722    840   \n",
       "MaterialType       31653      8   \n",
       "\n",
       "                                                               top   freq  \\\n",
       "ID                                                             NaN    NaN   \n",
       "UsageClass                                                Physical  31653   \n",
       "CheckoutType                                               Horizon  31653   \n",
       "CheckoutYear                                                   NaN    NaN   \n",
       "CheckoutMonth                                                  NaN    NaN   \n",
       "Checkouts                                                      NaN    NaN   \n",
       "Title            Eating fractions / cooked, written, drafted, a...      1   \n",
       "Creator                                            Rylant, Cynthia     16   \n",
       "Subjects                                             Feature films    228   \n",
       "Publisher                                            Random House,    116   \n",
       "PublicationYear                                             c2004.    573   \n",
       "MaterialType                                                  BOOK  21707   \n",
       "\n",
       "                    mean          std     min     25%      50%      75%  \\\n",
       "ID               15827.0  9137.578372     1.0  7914.0  15827.0  23740.0   \n",
       "UsageClass           NaN          NaN     NaN     NaN      NaN      NaN   \n",
       "CheckoutType         NaN          NaN     NaN     NaN      NaN      NaN   \n",
       "CheckoutYear      2005.0          0.0  2005.0  2005.0   2005.0   2005.0   \n",
       "CheckoutMonth        4.0          0.0     4.0     4.0      4.0      4.0   \n",
       "Checkouts        2.11743     2.629428     1.0     1.0      1.0      2.0   \n",
       "Title                NaN          NaN     NaN     NaN      NaN      NaN   \n",
       "Creator              NaN          NaN     NaN     NaN      NaN      NaN   \n",
       "Subjects             NaN          NaN     NaN     NaN      NaN      NaN   \n",
       "Publisher            NaN          NaN     NaN     NaN      NaN      NaN   \n",
       "PublicationYear      NaN          NaN     NaN     NaN      NaN      NaN   \n",
       "MaterialType         NaN          NaN     NaN     NaN      NaN      NaN   \n",
       "\n",
       "                     max  \n",
       "ID               31653.0  \n",
       "UsageClass           NaN  \n",
       "CheckoutType         NaN  \n",
       "CheckoutYear      2005.0  \n",
       "CheckoutMonth        4.0  \n",
       "Checkouts           85.0  \n",
       "Title                NaN  \n",
       "Creator              NaN  \n",
       "Subjects             NaN  \n",
       "Publisher            NaN  \n",
       "PublicationYear      NaN  \n",
       "MaterialType         NaN  "
      ]
     },
     "execution_count": 6,
     "metadata": {},
     "output_type": "execute_result"
    }
   ],
   "source": [
    "df.describe(include='all').transpose()"
   ]
  },
  {
   "cell_type": "code",
   "execution_count": 7,
   "id": "8345b179",
   "metadata": {},
   "outputs": [
    {
     "data": {
      "text/html": [
       "<div>\n",
       "<style scoped>\n",
       "    .dataframe tbody tr th:only-of-type {\n",
       "        vertical-align: middle;\n",
       "    }\n",
       "\n",
       "    .dataframe tbody tr th {\n",
       "        vertical-align: top;\n",
       "    }\n",
       "\n",
       "    .dataframe thead th {\n",
       "        text-align: right;\n",
       "    }\n",
       "</style>\n",
       "<table border=\"1\" class=\"dataframe\">\n",
       "  <thead>\n",
       "    <tr style=\"text-align: right;\">\n",
       "      <th></th>\n",
       "      <th>ID</th>\n",
       "      <th>CheckoutYear</th>\n",
       "      <th>CheckoutMonth</th>\n",
       "      <th>Checkouts</th>\n",
       "    </tr>\n",
       "  </thead>\n",
       "  <tbody>\n",
       "    <tr>\n",
       "      <th>count</th>\n",
       "      <td>31653.000000</td>\n",
       "      <td>31653.0</td>\n",
       "      <td>31653.0</td>\n",
       "      <td>31653.000000</td>\n",
       "    </tr>\n",
       "    <tr>\n",
       "      <th>mean</th>\n",
       "      <td>15827.000000</td>\n",
       "      <td>2005.0</td>\n",
       "      <td>4.0</td>\n",
       "      <td>2.117430</td>\n",
       "    </tr>\n",
       "    <tr>\n",
       "      <th>std</th>\n",
       "      <td>9137.578372</td>\n",
       "      <td>0.0</td>\n",
       "      <td>0.0</td>\n",
       "      <td>2.629428</td>\n",
       "    </tr>\n",
       "    <tr>\n",
       "      <th>min</th>\n",
       "      <td>1.000000</td>\n",
       "      <td>2005.0</td>\n",
       "      <td>4.0</td>\n",
       "      <td>1.000000</td>\n",
       "    </tr>\n",
       "    <tr>\n",
       "      <th>25%</th>\n",
       "      <td>7914.000000</td>\n",
       "      <td>2005.0</td>\n",
       "      <td>4.0</td>\n",
       "      <td>1.000000</td>\n",
       "    </tr>\n",
       "    <tr>\n",
       "      <th>50%</th>\n",
       "      <td>15827.000000</td>\n",
       "      <td>2005.0</td>\n",
       "      <td>4.0</td>\n",
       "      <td>1.000000</td>\n",
       "    </tr>\n",
       "    <tr>\n",
       "      <th>75%</th>\n",
       "      <td>23740.000000</td>\n",
       "      <td>2005.0</td>\n",
       "      <td>4.0</td>\n",
       "      <td>2.000000</td>\n",
       "    </tr>\n",
       "    <tr>\n",
       "      <th>max</th>\n",
       "      <td>31653.000000</td>\n",
       "      <td>2005.0</td>\n",
       "      <td>4.0</td>\n",
       "      <td>85.000000</td>\n",
       "    </tr>\n",
       "  </tbody>\n",
       "</table>\n",
       "</div>"
      ],
      "text/plain": [
       "                 ID  CheckoutYear  CheckoutMonth     Checkouts\n",
       "count  31653.000000       31653.0        31653.0  31653.000000\n",
       "mean   15827.000000        2005.0            4.0      2.117430\n",
       "std     9137.578372           0.0            0.0      2.629428\n",
       "min        1.000000        2005.0            4.0      1.000000\n",
       "25%     7914.000000        2005.0            4.0      1.000000\n",
       "50%    15827.000000        2005.0            4.0      1.000000\n",
       "75%    23740.000000        2005.0            4.0      2.000000\n",
       "max    31653.000000        2005.0            4.0     85.000000"
      ]
     },
     "execution_count": 7,
     "metadata": {},
     "output_type": "execute_result"
    }
   ],
   "source": [
    "df.describe()"
   ]
  },
  {
   "cell_type": "code",
   "execution_count": 8,
   "id": "e06074f0",
   "metadata": {},
   "outputs": [
    {
     "data": {
      "text/plain": [
       "840"
      ]
     },
     "execution_count": 8,
     "metadata": {},
     "output_type": "execute_result"
    }
   ],
   "source": [
    "df['PublicationYear'].nunique()"
   ]
  },
  {
   "cell_type": "code",
   "execution_count": 9,
   "id": "ffe49efc",
   "metadata": {},
   "outputs": [
    {
     "data": {
      "text/plain": [
       "(array([3.1101e+04, 4.4100e+02, 6.5000e+01, 2.1000e+01, 1.3000e+01,\n",
       "        4.0000e+00, 3.0000e+00, 1.0000e+00, 0.0000e+00, 4.0000e+00]),\n",
       " array([ 1. ,  9.4, 17.8, 26.2, 34.6, 43. , 51.4, 59.8, 68.2, 76.6, 85. ]),\n",
       " <BarContainer object of 10 artists>)"
      ]
     },
     "execution_count": 9,
     "metadata": {},
     "output_type": "execute_result"
    },
    {
     "data": {
      "image/png": "[encoded data removed]",
      "text/plain": [
       "<Figure size 432x288 with 1 Axes>"
      ]
     },
     "metadata": {
      "needs_background": "light"
     },
     "output_type": "display_data"
    }
   ],
   "source": [
    "plt.hist(df['Checkouts'])"
   ]
  },
  {
   "cell_type": "code",
   "execution_count": 10,
   "id": "d2db74c3",
   "metadata": {},
   "outputs": [
    {
     "data": {
      "text/plain": [
       "Index(['ID', 'UsageClass', 'CheckoutType', 'CheckoutYear', 'CheckoutMonth',\n",
       "       'Checkouts', 'Title', 'Creator', 'Subjects', 'Publisher',\n",
       "       'PublicationYear', 'MaterialType'],\n",
       "      dtype='object')"
      ]
     },
     "execution_count": 10,
     "metadata": {},
     "output_type": "execute_result"
    }
   ],
   "source": [
    "df.columns"
   ]
  },
  {
   "cell_type": "code",
   "execution_count": 11,
   "id": "aa1980ef",
   "metadata": {},
   "outputs": [
    {
     "data": {
      "text/plain": [
       "BOOK         21707\n",
       "SOUNDDISC     4149\n",
       "VIDEOCASS     2751\n",
       "VIDEODISC     1420\n",
       "SOUNDCASS     1020\n",
       "MIXED          347\n",
       "MUSIC          165\n",
       "CR              94\n",
       "Name: MaterialType, dtype: int64"
      ]
     },
     "execution_count": 11,
     "metadata": {},
     "output_type": "execute_result"
    }
   ],
   "source": [
    "df['MaterialType'].value_counts()"
   ]
  },
  {
   "cell_type": "code",
   "execution_count": 12,
   "id": "a61db81a",
   "metadata": {},
   "outputs": [
    {
     "name": "stderr",
     "output_type": "stream",
     "text": [
      "C:\\Users\\DELL\\anaconda3\\lib\\site-packages\\seaborn\\_decorators.py:36: FutureWarning: Pass the following variable as a keyword arg: x. From version 0.12, the only valid positional argument will be `data`, and passing other arguments without an explicit keyword will result in an error or misinterpretation.\n",
      "  warnings.warn(\n"
     ]
    },
    {
     "data": {
      "image/png": "[encoded data removed]",
      "text/plain": [
       "<Figure size 1440x2160 with 1 Axes>"
      ]
     },
     "metadata": {
      "needs_background": "light"
     },
     "output_type": "display_data"
    }
   ],
   "source": [
    "plt.figure(figsize=(20,30))\n",
    "features = ['Checkouts']\n",
    "for i in enumerate(features): \n",
    "    ax = plt.subplot(5, 4, i[0]+1)\n",
    "    sns.boxplot(df[i[1]])\n",
    "    plt.xticks(rotation = 20)"
   ]
  },
  {
   "cell_type": "code",
   "execution_count": 13,
   "id": "cc4fba4a",
   "metadata": {},
   "outputs": [
    {
     "data": {
      "image/png": "[encoded data removed]",
      "text/plain": [
       "<Figure size 1152x360 with 1 Axes>"
      ]
     },
     "metadata": {
      "needs_background": "light"
     },
     "output_type": "display_data"
    }
   ],
   "source": [
    "import warnings\n",
    "warnings.filterwarnings('ignore')\n",
    "plt.figure(figsize=(16,5))\n",
    "plt.subplot(1,2,1)\n",
    "sns.distplot(df['Checkouts'])\n",
    "plt.show()"
   ]
  },
  {
   "cell_type": "code",
   "execution_count": 14,
   "id": "4a52bce1",
   "metadata": {},
   "outputs": [],
   "source": [
    "d=df.loc[df['Checkouts']>3.5].index"
   ]
  },
  {
   "cell_type": "code",
   "execution_count": 15,
   "id": "1605ac4d",
   "metadata": {},
   "outputs": [
    {
     "data": {
      "text/plain": [
       "4326"
      ]
     },
     "execution_count": 15,
     "metadata": {},
     "output_type": "execute_result"
    }
   ],
   "source": [
    "d.nunique()"
   ]
  },
  {
   "cell_type": "code",
   "execution_count": 16,
   "id": "167588a3",
   "metadata": {},
   "outputs": [],
   "source": [
    "df.drop(d,inplace=True)"
   ]
  },
  {
   "cell_type": "code",
   "execution_count": 17,
   "id": "14a7923d",
   "metadata": {},
   "outputs": [
    {
     "data": {
      "text/plain": [
       "(27327, 12)"
      ]
     },
     "execution_count": 17,
     "metadata": {},
     "output_type": "execute_result"
    }
   ],
   "source": [
    "df.shape"
   ]
  },
  {
   "cell_type": "code",
   "execution_count": 18,
   "id": "e0256e1e",
   "metadata": {},
   "outputs": [
    {
     "data": {
      "text/plain": [
       "(array([18866.,     0.,     0.,     0.,     0.,  5810.,     0.,     0.,\n",
       "            0.,  2651.]),\n",
       " array([1. , 1.2, 1.4, 1.6, 1.8, 2. , 2.2, 2.4, 2.6, 2.8, 3. ]),\n",
       " <BarContainer object of 10 artists>)"
      ]
     },
     "execution_count": 18,
     "metadata": {},
     "output_type": "execute_result"
    },
    {
     "data": {
      "image/png": "[encoded data removed]",
      "text/plain": [
       "<Figure size 432x288 with 1 Axes>"
      ]
     },
     "metadata": {
      "needs_background": "light"
     },
     "output_type": "display_data"
    }
   ],
   "source": [
    "plt.hist(df['Checkouts'])"
   ]
  },
  {
   "cell_type": "code",
   "execution_count": 19,
   "id": "505c2fdb",
   "metadata": {},
   "outputs": [
    {
     "data": {
      "text/plain": [
       "<AxesSubplot:>"
      ]
     },
     "execution_count": 19,
     "metadata": {},
     "output_type": "execute_result"
    },
    {
     "data": {
      "image/png": "[encoded data removed]",
      "text/plain": [
       "<Figure size 432x288 with 1 Axes>"
      ]
     },
     "metadata": {
      "needs_background": "light"
     },
     "output_type": "display_data"
    }
   ],
   "source": [
    "df.boxplot(['Checkouts'])"
   ]
  },
  {
   "cell_type": "code",
   "execution_count": 20,
   "id": "1d09ebb9",
   "metadata": {},
   "outputs": [],
   "source": [
    "q1=np.percentile(df['Checkouts'],75,interpolation='midpoint')"
   ]
  },
  {
   "cell_type": "code",
   "execution_count": 21,
   "id": "6a0a846c",
   "metadata": {},
   "outputs": [
    {
     "data": {
      "text/plain": [
       "2.0"
      ]
     },
     "execution_count": 21,
     "metadata": {},
     "output_type": "execute_result"
    }
   ],
   "source": [
    "q1\n"
   ]
  },
  {
   "cell_type": "code",
   "execution_count": 22,
   "id": "df27206d",
   "metadata": {},
   "outputs": [],
   "source": [
    "u=q1+1.5*1"
   ]
  },
  {
   "cell_type": "code",
   "execution_count": 23,
   "id": "95ee326d",
   "metadata": {},
   "outputs": [
    {
     "data": {
      "text/plain": [
       "3.5"
      ]
     },
     "execution_count": 23,
     "metadata": {},
     "output_type": "execute_result"
    }
   ],
   "source": [
    "u"
   ]
  },
  {
   "cell_type": "code",
   "execution_count": 24,
   "id": "a3fc4b86",
   "metadata": {},
   "outputs": [
    {
     "data": {
      "text/plain": [
       "0    Feature films\n",
       "dtype: object"
      ]
     },
     "execution_count": 24,
     "metadata": {},
     "output_type": "execute_result"
    }
   ],
   "source": [
    "df['Subjects'].mode()"
   ]
  },
  {
   "cell_type": "code",
   "execution_count": 25,
   "id": "b148a39c",
   "metadata": {},
   "outputs": [],
   "source": [
    "df['Subjects'].fillna('Features films',inplace=True)"
   ]
  },
  {
   "cell_type": "code",
   "execution_count": 26,
   "id": "76a06ba4",
   "metadata": {},
   "outputs": [],
   "source": [
    "nu=['Creator',  'Publisher', 'PublicationYear']\n",
    "for i in nu:\n",
    "    df[i].fillna('Unknown',inplace=True)\n"
   ]
  },
  {
   "cell_type": "code",
   "execution_count": 27,
   "id": "2aeb73c9",
   "metadata": {},
   "outputs": [
    {
     "data": {
      "text/plain": [
       "ID                 0\n",
       "UsageClass         0\n",
       "CheckoutType       0\n",
       "CheckoutYear       0\n",
       "CheckoutMonth      0\n",
       "Checkouts          0\n",
       "Title              0\n",
       "Creator            0\n",
       "Subjects           0\n",
       "Publisher          0\n",
       "PublicationYear    0\n",
       "MaterialType       0\n",
       "dtype: int64"
      ]
     },
     "execution_count": 27,
     "metadata": {},
     "output_type": "execute_result"
    }
   ],
   "source": [
    "df.isna().sum()"
   ]
  },
  {
   "cell_type": "code",
   "execution_count": 28,
   "id": "5fda2eac",
   "metadata": {},
   "outputs": [
    {
     "data": {
      "text/plain": [
       "(27327, 12)"
      ]
     },
     "execution_count": 28,
     "metadata": {},
     "output_type": "execute_result"
    }
   ],
   "source": [
    "df.shape"
   ]
  },
  {
   "cell_type": "code",
   "execution_count": 29,
   "id": "5b485bfe",
   "metadata": {},
   "outputs": [
    {
     "data": {
      "text/html": [
       "<div>\n",
       "<style scoped>\n",
       "    .dataframe tbody tr th:only-of-type {\n",
       "        vertical-align: middle;\n",
       "    }\n",
       "\n",
       "    .dataframe tbody tr th {\n",
       "        vertical-align: top;\n",
       "    }\n",
       "\n",
       "    .dataframe thead th {\n",
       "        text-align: right;\n",
       "    }\n",
       "</style>\n",
       "<table border=\"1\" class=\"dataframe\">\n",
       "  <thead>\n",
       "    <tr style=\"text-align: right;\">\n",
       "      <th></th>\n",
       "      <th>count</th>\n",
       "      <th>unique</th>\n",
       "      <th>top</th>\n",
       "      <th>freq</th>\n",
       "      <th>mean</th>\n",
       "      <th>std</th>\n",
       "      <th>min</th>\n",
       "      <th>25%</th>\n",
       "      <th>50%</th>\n",
       "      <th>75%</th>\n",
       "      <th>max</th>\n",
       "    </tr>\n",
       "  </thead>\n",
       "  <tbody>\n",
       "    <tr>\n",
       "      <th>ID</th>\n",
       "      <td>27327.0</td>\n",
       "      <td>NaN</td>\n",
       "      <td>NaN</td>\n",
       "      <td>NaN</td>\n",
       "      <td>15867.251327</td>\n",
       "      <td>9128.183675</td>\n",
       "      <td>1.0</td>\n",
       "      <td>7969.5</td>\n",
       "      <td>15895.0</td>\n",
       "      <td>23765.5</td>\n",
       "      <td>31653.0</td>\n",
       "    </tr>\n",
       "    <tr>\n",
       "      <th>UsageClass</th>\n",
       "      <td>27327</td>\n",
       "      <td>1</td>\n",
       "      <td>Physical</td>\n",
       "      <td>27327</td>\n",
       "      <td>NaN</td>\n",
       "      <td>NaN</td>\n",
       "      <td>NaN</td>\n",
       "      <td>NaN</td>\n",
       "      <td>NaN</td>\n",
       "      <td>NaN</td>\n",
       "      <td>NaN</td>\n",
       "    </tr>\n",
       "    <tr>\n",
       "      <th>CheckoutType</th>\n",
       "      <td>27327</td>\n",
       "      <td>1</td>\n",
       "      <td>Horizon</td>\n",
       "      <td>27327</td>\n",
       "      <td>NaN</td>\n",
       "      <td>NaN</td>\n",
       "      <td>NaN</td>\n",
       "      <td>NaN</td>\n",
       "      <td>NaN</td>\n",
       "      <td>NaN</td>\n",
       "      <td>NaN</td>\n",
       "    </tr>\n",
       "    <tr>\n",
       "      <th>CheckoutYear</th>\n",
       "      <td>27327.0</td>\n",
       "      <td>NaN</td>\n",
       "      <td>NaN</td>\n",
       "      <td>NaN</td>\n",
       "      <td>2005.0</td>\n",
       "      <td>0.0</td>\n",
       "      <td>2005.0</td>\n",
       "      <td>2005.0</td>\n",
       "      <td>2005.0</td>\n",
       "      <td>2005.0</td>\n",
       "      <td>2005.0</td>\n",
       "    </tr>\n",
       "    <tr>\n",
       "      <th>CheckoutMonth</th>\n",
       "      <td>27327.0</td>\n",
       "      <td>NaN</td>\n",
       "      <td>NaN</td>\n",
       "      <td>NaN</td>\n",
       "      <td>4.0</td>\n",
       "      <td>0.0</td>\n",
       "      <td>4.0</td>\n",
       "      <td>4.0</td>\n",
       "      <td>4.0</td>\n",
       "      <td>4.0</td>\n",
       "      <td>4.0</td>\n",
       "    </tr>\n",
       "    <tr>\n",
       "      <th>Checkouts</th>\n",
       "      <td>27327.0</td>\n",
       "      <td>NaN</td>\n",
       "      <td>NaN</td>\n",
       "      <td>NaN</td>\n",
       "      <td>1.406631</td>\n",
       "      <td>0.659787</td>\n",
       "      <td>1.0</td>\n",
       "      <td>1.0</td>\n",
       "      <td>1.0</td>\n",
       "      <td>2.0</td>\n",
       "      <td>3.0</td>\n",
       "    </tr>\n",
       "    <tr>\n",
       "      <th>Title</th>\n",
       "      <td>27327</td>\n",
       "      <td>27327</td>\n",
       "      <td>Eating fractions / cooked, written, drafted, a...</td>\n",
       "      <td>1</td>\n",
       "      <td>NaN</td>\n",
       "      <td>NaN</td>\n",
       "      <td>NaN</td>\n",
       "      <td>NaN</td>\n",
       "      <td>NaN</td>\n",
       "      <td>NaN</td>\n",
       "      <td>NaN</td>\n",
       "    </tr>\n",
       "    <tr>\n",
       "      <th>Creator</th>\n",
       "      <td>27327</td>\n",
       "      <td>6104</td>\n",
       "      <td>Unknown</td>\n",
       "      <td>20051</td>\n",
       "      <td>NaN</td>\n",
       "      <td>NaN</td>\n",
       "      <td>NaN</td>\n",
       "      <td>NaN</td>\n",
       "      <td>NaN</td>\n",
       "      <td>NaN</td>\n",
       "      <td>NaN</td>\n",
       "    </tr>\n",
       "    <tr>\n",
       "      <th>Subjects</th>\n",
       "      <td>27327</td>\n",
       "      <td>21627</td>\n",
       "      <td>Features films</td>\n",
       "      <td>1702</td>\n",
       "      <td>NaN</td>\n",
       "      <td>NaN</td>\n",
       "      <td>NaN</td>\n",
       "      <td>NaN</td>\n",
       "      <td>NaN</td>\n",
       "      <td>NaN</td>\n",
       "      <td>NaN</td>\n",
       "    </tr>\n",
       "    <tr>\n",
       "      <th>Publisher</th>\n",
       "      <td>27327</td>\n",
       "      <td>3191</td>\n",
       "      <td>Unknown</td>\n",
       "      <td>19205</td>\n",
       "      <td>NaN</td>\n",
       "      <td>NaN</td>\n",
       "      <td>NaN</td>\n",
       "      <td>NaN</td>\n",
       "      <td>NaN</td>\n",
       "      <td>NaN</td>\n",
       "      <td>NaN</td>\n",
       "    </tr>\n",
       "    <tr>\n",
       "      <th>PublicationYear</th>\n",
       "      <td>27327</td>\n",
       "      <td>734</td>\n",
       "      <td>Unknown</td>\n",
       "      <td>19216</td>\n",
       "      <td>NaN</td>\n",
       "      <td>NaN</td>\n",
       "      <td>NaN</td>\n",
       "      <td>NaN</td>\n",
       "      <td>NaN</td>\n",
       "      <td>NaN</td>\n",
       "      <td>NaN</td>\n",
       "    </tr>\n",
       "    <tr>\n",
       "      <th>MaterialType</th>\n",
       "      <td>27327</td>\n",
       "      <td>8</td>\n",
       "      <td>BOOK</td>\n",
       "      <td>19767</td>\n",
       "      <td>NaN</td>\n",
       "      <td>NaN</td>\n",
       "      <td>NaN</td>\n",
       "      <td>NaN</td>\n",
       "      <td>NaN</td>\n",
       "      <td>NaN</td>\n",
       "      <td>NaN</td>\n",
       "    </tr>\n",
       "  </tbody>\n",
       "</table>\n",
       "</div>"
      ],
      "text/plain": [
       "                   count unique  \\\n",
       "ID               27327.0    NaN   \n",
       "UsageClass         27327      1   \n",
       "CheckoutType       27327      1   \n",
       "CheckoutYear     27327.0    NaN   \n",
       "CheckoutMonth    27327.0    NaN   \n",
       "Checkouts        27327.0    NaN   \n",
       "Title              27327  27327   \n",
       "Creator            27327   6104   \n",
       "Subjects           27327  21627   \n",
       "Publisher          27327   3191   \n",
       "PublicationYear    27327    734   \n",
       "MaterialType       27327      8   \n",
       "\n",
       "                                                               top   freq  \\\n",
       "ID                                                             NaN    NaN   \n",
       "UsageClass                                                Physical  27327   \n",
       "CheckoutType                                               Horizon  27327   \n",
       "CheckoutYear                                                   NaN    NaN   \n",
       "CheckoutMonth                                                  NaN    NaN   \n",
       "Checkouts                                                      NaN    NaN   \n",
       "Title            Eating fractions / cooked, written, drafted, a...      1   \n",
       "Creator                                                    Unknown  20051   \n",
       "Subjects                                            Features films   1702   \n",
       "Publisher                                                  Unknown  19205   \n",
       "PublicationYear                                            Unknown  19216   \n",
       "MaterialType                                                  BOOK  19767   \n",
       "\n",
       "                         mean          std     min     25%      50%      75%  \\\n",
       "ID               15867.251327  9128.183675     1.0  7969.5  15895.0  23765.5   \n",
       "UsageClass                NaN          NaN     NaN     NaN      NaN      NaN   \n",
       "CheckoutType              NaN          NaN     NaN     NaN      NaN      NaN   \n",
       "CheckoutYear           2005.0          0.0  2005.0  2005.0   2005.0   2005.0   \n",
       "CheckoutMonth             4.0          0.0     4.0     4.0      4.0      4.0   \n",
       "Checkouts            1.406631     0.659787     1.0     1.0      1.0      2.0   \n",
       "Title                     NaN          NaN     NaN     NaN      NaN      NaN   \n",
       "Creator                   NaN          NaN     NaN     NaN      NaN      NaN   \n",
       "Subjects                  NaN          NaN     NaN     NaN      NaN      NaN   \n",
       "Publisher                 NaN          NaN     NaN     NaN      NaN      NaN   \n",
       "PublicationYear           NaN          NaN     NaN     NaN      NaN      NaN   \n",
       "MaterialType              NaN          NaN     NaN     NaN      NaN      NaN   \n",
       "\n",
       "                     max  \n",
       "ID               31653.0  \n",
       "UsageClass           NaN  \n",
       "CheckoutType         NaN  \n",
       "CheckoutYear      2005.0  \n",
       "CheckoutMonth        4.0  \n",
       "Checkouts            3.0  \n",
       "Title                NaN  \n",
       "Creator              NaN  \n",
       "Subjects             NaN  \n",
       "Publisher            NaN  \n",
       "PublicationYear      NaN  \n",
       "MaterialType         NaN  "
      ]
     },
     "execution_count": 29,
     "metadata": {},
     "output_type": "execute_result"
    }
   ],
   "source": [
    "df.describe(include='all').transpose()"
   ]
  },
  {
   "cell_type": "code",
   "execution_count": 30,
   "id": "f5df3bf0",
   "metadata": {},
   "outputs": [
    {
     "name": "stdout",
     "output_type": "stream",
     "text": [
      "<class 'pandas.core.frame.DataFrame'>\n",
      "Int64Index: 27327 entries, 0 to 31652\n",
      "Data columns (total 12 columns):\n",
      " #   Column           Non-Null Count  Dtype \n",
      "---  ------           --------------  ----- \n",
      " 0   ID               27327 non-null  int64 \n",
      " 1   UsageClass       27327 non-null  object\n",
      " 2   CheckoutType     27327 non-null  object\n",
      " 3   CheckoutYear     27327 non-null  int64 \n",
      " 4   CheckoutMonth    27327 non-null  int64 \n",
      " 5   Checkouts        27327 non-null  int64 \n",
      " 6   Title            27327 non-null  object\n",
      " 7   Creator          27327 non-null  object\n",
      " 8   Subjects         27327 non-null  object\n",
      " 9   Publisher        27327 non-null  object\n",
      " 10  PublicationYear  27327 non-null  object\n",
      " 11  MaterialType     27327 non-null  object\n",
      "dtypes: int64(4), object(8)\n",
      "memory usage: 2.7+ MB\n"
     ]
    }
   ],
   "source": [
    "df.info()"
   ]
  },
  {
   "cell_type": "code",
   "execution_count": 31,
   "id": "003e19c5",
   "metadata": {},
   "outputs": [],
   "source": [
    "cat_features=[i for i in df.columns if df.dtypes[i]=='object']"
   ]
  },
  {
   "cell_type": "code",
   "execution_count": 32,
   "id": "20e2c80b",
   "metadata": {},
   "outputs": [
    {
     "data": {
      "text/plain": [
       "['UsageClass',\n",
       " 'CheckoutType',\n",
       " 'Title',\n",
       " 'Creator',\n",
       " 'Subjects',\n",
       " 'Publisher',\n",
       " 'PublicationYear',\n",
       " 'MaterialType']"
      ]
     },
     "execution_count": 32,
     "metadata": {},
     "output_type": "execute_result"
    }
   ],
   "source": [
    "cat_features"
   ]
  },
  {
   "cell_type": "code",
   "execution_count": 38,
   "id": "925e05b6",
   "metadata": {},
   "outputs": [],
   "source": [
    "from sklearn import preprocessing\n",
    "label_encoder = preprocessing.LabelEncoder()\n",
    "a=['UsageClass','CheckoutType','Title','Creator',\n",
    " 'Subjects',\n",
    " 'Publisher',\n",
    " 'PublicationYear']\n",
    "for i in a:\n",
    "    df[i]= label_encoder.fit_transform(df[i])"
   ]
  },
  {
   "cell_type": "code",
   "execution_count": 34,
   "id": "41bca639",
   "metadata": {},
   "outputs": [],
   "source": [
    "from sklearn import preprocessing\n",
    "label_encoder = preprocessing.LabelEncoder()"
   ]
  },
  {
   "cell_type": "code",
   "execution_count": 35,
   "id": "c493f89b",
   "metadata": {},
   "outputs": [],
   "source": [
    "df['MaterialType']=label_encoder.fit_transform(df['MaterialType'])"
   ]
  },
  {
   "cell_type": "code",
   "execution_count": 36,
   "id": "538f8a45",
   "metadata": {},
   "outputs": [],
   "source": [
    "lema=dict(zip(label_encoder.classes_,label_encoder.transform(label_encoder.classes_)))"
   ]
  },
  {
   "cell_type": "code",
   "execution_count": 37,
   "id": "5f400b18",
   "metadata": {},
   "outputs": [
    {
     "data": {
      "text/plain": [
       "{'BOOK': 0,\n",
       " 'CR': 1,\n",
       " 'MIXED': 2,\n",
       " 'MUSIC': 3,\n",
       " 'SOUNDCASS': 4,\n",
       " 'SOUNDDISC': 5,\n",
       " 'VIDEOCASS': 6,\n",
       " 'VIDEODISC': 7}"
      ]
     },
     "execution_count": 37,
     "metadata": {},
     "output_type": "execute_result"
    }
   ],
   "source": [
    "lema"
   ]
  },
  {
   "cell_type": "code",
   "execution_count": 39,
   "id": "57401251",
   "metadata": {},
   "outputs": [
    {
     "data": {
      "text/html": [
       "<div>\n",
       "<style scoped>\n",
       "    .dataframe tbody tr th:only-of-type {\n",
       "        vertical-align: middle;\n",
       "    }\n",
       "\n",
       "    .dataframe tbody tr th {\n",
       "        vertical-align: top;\n",
       "    }\n",
       "\n",
       "    .dataframe thead th {\n",
       "        text-align: right;\n",
       "    }\n",
       "</style>\n",
       "<table border=\"1\" class=\"dataframe\">\n",
       "  <thead>\n",
       "    <tr style=\"text-align: right;\">\n",
       "      <th></th>\n",
       "      <th>ID</th>\n",
       "      <th>UsageClass</th>\n",
       "      <th>CheckoutType</th>\n",
       "      <th>CheckoutYear</th>\n",
       "      <th>CheckoutMonth</th>\n",
       "      <th>Checkouts</th>\n",
       "      <th>Title</th>\n",
       "      <th>Creator</th>\n",
       "      <th>Subjects</th>\n",
       "      <th>Publisher</th>\n",
       "      <th>PublicationYear</th>\n",
       "      <th>MaterialType</th>\n",
       "    </tr>\n",
       "  </thead>\n",
       "  <tbody>\n",
       "    <tr>\n",
       "      <th>0</th>\n",
       "      <td>1</td>\n",
       "      <td>0</td>\n",
       "      <td>0</td>\n",
       "      <td>2005</td>\n",
       "      <td>4</td>\n",
       "      <td>1</td>\n",
       "      <td>21232</td>\n",
       "      <td>5551</td>\n",
       "      <td>19600</td>\n",
       "      <td>2910</td>\n",
       "      <td>321</td>\n",
       "      <td>0</td>\n",
       "    </tr>\n",
       "    <tr>\n",
       "      <th>1</th>\n",
       "      <td>2</td>\n",
       "      <td>0</td>\n",
       "      <td>0</td>\n",
       "      <td>2005</td>\n",
       "      <td>4</td>\n",
       "      <td>1</td>\n",
       "      <td>11830</td>\n",
       "      <td>4193</td>\n",
       "      <td>6878</td>\n",
       "      <td>2954</td>\n",
       "      <td>221</td>\n",
       "      <td>0</td>\n",
       "    </tr>\n",
       "    <tr>\n",
       "      <th>2</th>\n",
       "      <td>3</td>\n",
       "      <td>0</td>\n",
       "      <td>0</td>\n",
       "      <td>2005</td>\n",
       "      <td>4</td>\n",
       "      <td>3</td>\n",
       "      <td>3895</td>\n",
       "      <td>1965</td>\n",
       "      <td>3618</td>\n",
       "      <td>927</td>\n",
       "      <td>676</td>\n",
       "      <td>0</td>\n",
       "    </tr>\n",
       "    <tr>\n",
       "      <th>3</th>\n",
       "      <td>4</td>\n",
       "      <td>0</td>\n",
       "      <td>0</td>\n",
       "      <td>2005</td>\n",
       "      <td>4</td>\n",
       "      <td>1</td>\n",
       "      <td>1327</td>\n",
       "      <td>5551</td>\n",
       "      <td>20707</td>\n",
       "      <td>2910</td>\n",
       "      <td>321</td>\n",
       "      <td>0</td>\n",
       "    </tr>\n",
       "    <tr>\n",
       "      <th>4</th>\n",
       "      <td>5</td>\n",
       "      <td>0</td>\n",
       "      <td>0</td>\n",
       "      <td>2005</td>\n",
       "      <td>4</td>\n",
       "      <td>1</td>\n",
       "      <td>1561</td>\n",
       "      <td>5551</td>\n",
       "      <td>19335</td>\n",
       "      <td>2910</td>\n",
       "      <td>321</td>\n",
       "      <td>0</td>\n",
       "    </tr>\n",
       "    <tr>\n",
       "      <th>...</th>\n",
       "      <td>...</td>\n",
       "      <td>...</td>\n",
       "      <td>...</td>\n",
       "      <td>...</td>\n",
       "      <td>...</td>\n",
       "      <td>...</td>\n",
       "      <td>...</td>\n",
       "      <td>...</td>\n",
       "      <td>...</td>\n",
       "      <td>...</td>\n",
       "      <td>...</td>\n",
       "      <td>...</td>\n",
       "    </tr>\n",
       "    <tr>\n",
       "      <th>31644</th>\n",
       "      <td>31645</td>\n",
       "      <td>0</td>\n",
       "      <td>0</td>\n",
       "      <td>2005</td>\n",
       "      <td>4</td>\n",
       "      <td>3</td>\n",
       "      <td>27227</td>\n",
       "      <td>5551</td>\n",
       "      <td>21076</td>\n",
       "      <td>2910</td>\n",
       "      <td>321</td>\n",
       "      <td>0</td>\n",
       "    </tr>\n",
       "    <tr>\n",
       "      <th>31645</th>\n",
       "      <td>31646</td>\n",
       "      <td>0</td>\n",
       "      <td>0</td>\n",
       "      <td>2005</td>\n",
       "      <td>4</td>\n",
       "      <td>1</td>\n",
       "      <td>25043</td>\n",
       "      <td>5551</td>\n",
       "      <td>17968</td>\n",
       "      <td>2910</td>\n",
       "      <td>321</td>\n",
       "      <td>0</td>\n",
       "    </tr>\n",
       "    <tr>\n",
       "      <th>31647</th>\n",
       "      <td>31648</td>\n",
       "      <td>0</td>\n",
       "      <td>0</td>\n",
       "      <td>2005</td>\n",
       "      <td>4</td>\n",
       "      <td>1</td>\n",
       "      <td>13797</td>\n",
       "      <td>5551</td>\n",
       "      <td>12344</td>\n",
       "      <td>2910</td>\n",
       "      <td>321</td>\n",
       "      <td>0</td>\n",
       "    </tr>\n",
       "    <tr>\n",
       "      <th>31648</th>\n",
       "      <td>31649</td>\n",
       "      <td>0</td>\n",
       "      <td>0</td>\n",
       "      <td>2005</td>\n",
       "      <td>4</td>\n",
       "      <td>2</td>\n",
       "      <td>3272</td>\n",
       "      <td>5551</td>\n",
       "      <td>2683</td>\n",
       "      <td>2910</td>\n",
       "      <td>321</td>\n",
       "      <td>0</td>\n",
       "    </tr>\n",
       "    <tr>\n",
       "      <th>31652</th>\n",
       "      <td>31653</td>\n",
       "      <td>0</td>\n",
       "      <td>0</td>\n",
       "      <td>2005</td>\n",
       "      <td>4</td>\n",
       "      <td>2</td>\n",
       "      <td>9503</td>\n",
       "      <td>5551</td>\n",
       "      <td>6878</td>\n",
       "      <td>2910</td>\n",
       "      <td>321</td>\n",
       "      <td>2</td>\n",
       "    </tr>\n",
       "  </tbody>\n",
       "</table>\n",
       "<p>27327 rows × 12 columns</p>\n",
       "</div>"
      ],
      "text/plain": [
       "          ID  UsageClass  CheckoutType  CheckoutYear  CheckoutMonth  \\\n",
       "0          1           0             0          2005              4   \n",
       "1          2           0             0          2005              4   \n",
       "2          3           0             0          2005              4   \n",
       "3          4           0             0          2005              4   \n",
       "4          5           0             0          2005              4   \n",
       "...      ...         ...           ...           ...            ...   \n",
       "31644  31645           0             0          2005              4   \n",
       "31645  31646           0             0          2005              4   \n",
       "31647  31648           0             0          2005              4   \n",
       "31648  31649           0             0          2005              4   \n",
       "31652  31653           0             0          2005              4   \n",
       "\n",
       "       Checkouts  Title  Creator  Subjects  Publisher  PublicationYear  \\\n",
       "0              1  21232     5551     19600       2910              321   \n",
       "1              1  11830     4193      6878       2954              221   \n",
       "2              3   3895     1965      3618        927              676   \n",
       "3              1   1327     5551     20707       2910              321   \n",
       "4              1   1561     5551     19335       2910              321   \n",
       "...          ...    ...      ...       ...        ...              ...   \n",
       "31644          3  27227     5551     21076       2910              321   \n",
       "31645          1  25043     5551     17968       2910              321   \n",
       "31647          1  13797     5551     12344       2910              321   \n",
       "31648          2   3272     5551      2683       2910              321   \n",
       "31652          2   9503     5551      6878       2910              321   \n",
       "\n",
       "       MaterialType  \n",
       "0                 0  \n",
       "1                 0  \n",
       "2                 0  \n",
       "3                 0  \n",
       "4                 0  \n",
       "...             ...  \n",
       "31644             0  \n",
       "31645             0  \n",
       "31647             0  \n",
       "31648             0  \n",
       "31652             2  \n",
       "\n",
       "[27327 rows x 12 columns]"
      ]
     },
     "execution_count": 39,
     "metadata": {},
     "output_type": "execute_result"
    }
   ],
   "source": [
    "df"
   ]
  },
  {
   "cell_type": "code",
   "execution_count": 40,
   "id": "098f6a7c",
   "metadata": {},
   "outputs": [
    {
     "name": "stdout",
     "output_type": "stream",
     "text": [
      "<class 'pandas.core.frame.DataFrame'>\n",
      "Int64Index: 27327 entries, 0 to 31652\n",
      "Data columns (total 12 columns):\n",
      " #   Column           Non-Null Count  Dtype\n",
      "---  ------           --------------  -----\n",
      " 0   ID               27327 non-null  int64\n",
      " 1   UsageClass       27327 non-null  int32\n",
      " 2   CheckoutType     27327 non-null  int32\n",
      " 3   CheckoutYear     27327 non-null  int64\n",
      " 4   CheckoutMonth    27327 non-null  int64\n",
      " 5   Checkouts        27327 non-null  int64\n",
      " 6   Title            27327 non-null  int32\n",
      " 7   Creator          27327 non-null  int32\n",
      " 8   Subjects         27327 non-null  int32\n",
      " 9   Publisher        27327 non-null  int32\n",
      " 10  PublicationYear  27327 non-null  int32\n",
      " 11  MaterialType     27327 non-null  int32\n",
      "dtypes: int32(8), int64(4)\n",
      "memory usage: 1.9 MB\n"
     ]
    }
   ],
   "source": [
    "df.info()"
   ]
  },
  {
   "cell_type": "code",
   "execution_count": 41,
   "id": "b9fddb16",
   "metadata": {},
   "outputs": [
    {
     "data": {
      "text/html": [
       "<div>\n",
       "<style scoped>\n",
       "    .dataframe tbody tr th:only-of-type {\n",
       "        vertical-align: middle;\n",
       "    }\n",
       "\n",
       "    .dataframe tbody tr th {\n",
       "        vertical-align: top;\n",
       "    }\n",
       "\n",
       "    .dataframe thead th {\n",
       "        text-align: right;\n",
       "    }\n",
       "</style>\n",
       "<table border=\"1\" class=\"dataframe\">\n",
       "  <thead>\n",
       "    <tr style=\"text-align: right;\">\n",
       "      <th></th>\n",
       "      <th>ID</th>\n",
       "      <th>UsageClass</th>\n",
       "      <th>CheckoutType</th>\n",
       "      <th>CheckoutYear</th>\n",
       "      <th>CheckoutMonth</th>\n",
       "      <th>Checkouts</th>\n",
       "      <th>Title</th>\n",
       "      <th>Creator</th>\n",
       "      <th>Subjects</th>\n",
       "      <th>Publisher</th>\n",
       "      <th>PublicationYear</th>\n",
       "      <th>MaterialType</th>\n",
       "    </tr>\n",
       "  </thead>\n",
       "  <tbody>\n",
       "    <tr>\n",
       "      <th>count</th>\n",
       "      <td>27327.000000</td>\n",
       "      <td>27327.0</td>\n",
       "      <td>27327.0</td>\n",
       "      <td>27327.0</td>\n",
       "      <td>27327.0</td>\n",
       "      <td>27327.000000</td>\n",
       "      <td>27327.000000</td>\n",
       "      <td>27327.000000</td>\n",
       "      <td>27327.000000</td>\n",
       "      <td>27327.000000</td>\n",
       "      <td>27327.000000</td>\n",
       "      <td>27327.000000</td>\n",
       "    </tr>\n",
       "    <tr>\n",
       "      <th>mean</th>\n",
       "      <td>15867.251327</td>\n",
       "      <td>0.0</td>\n",
       "      <td>0.0</td>\n",
       "      <td>2005.0</td>\n",
       "      <td>4.0</td>\n",
       "      <td>1.406631</td>\n",
       "      <td>13663.000000</td>\n",
       "      <td>4885.972884</td>\n",
       "      <td>10728.394262</td>\n",
       "      <td>2525.702272</td>\n",
       "      <td>359.288945</td>\n",
       "      <td>1.403154</td>\n",
       "    </tr>\n",
       "    <tr>\n",
       "      <th>std</th>\n",
       "      <td>9128.183675</td>\n",
       "      <td>0.0</td>\n",
       "      <td>0.0</td>\n",
       "      <td>0.0</td>\n",
       "      <td>0.0</td>\n",
       "      <td>0.659787</td>\n",
       "      <td>7888.769739</td>\n",
       "      <td>1428.985764</td>\n",
       "      <td>6057.931529</td>\n",
       "      <td>764.579588</td>\n",
       "      <td>133.477033</td>\n",
       "      <td>2.348595</td>\n",
       "    </tr>\n",
       "    <tr>\n",
       "      <th>min</th>\n",
       "      <td>1.000000</td>\n",
       "      <td>0.0</td>\n",
       "      <td>0.0</td>\n",
       "      <td>2005.0</td>\n",
       "      <td>4.0</td>\n",
       "      <td>1.000000</td>\n",
       "      <td>0.000000</td>\n",
       "      <td>0.000000</td>\n",
       "      <td>0.000000</td>\n",
       "      <td>0.000000</td>\n",
       "      <td>0.000000</td>\n",
       "      <td>0.000000</td>\n",
       "    </tr>\n",
       "    <tr>\n",
       "      <th>25%</th>\n",
       "      <td>7969.500000</td>\n",
       "      <td>0.0</td>\n",
       "      <td>0.0</td>\n",
       "      <td>2005.0</td>\n",
       "      <td>4.0</td>\n",
       "      <td>1.000000</td>\n",
       "      <td>6831.500000</td>\n",
       "      <td>5551.000000</td>\n",
       "      <td>6086.500000</td>\n",
       "      <td>2689.500000</td>\n",
       "      <td>321.000000</td>\n",
       "      <td>0.000000</td>\n",
       "    </tr>\n",
       "    <tr>\n",
       "      <th>50%</th>\n",
       "      <td>15895.000000</td>\n",
       "      <td>0.0</td>\n",
       "      <td>0.0</td>\n",
       "      <td>2005.0</td>\n",
       "      <td>4.0</td>\n",
       "      <td>1.000000</td>\n",
       "      <td>13663.000000</td>\n",
       "      <td>5551.000000</td>\n",
       "      <td>10404.000000</td>\n",
       "      <td>2910.000000</td>\n",
       "      <td>321.000000</td>\n",
       "      <td>0.000000</td>\n",
       "    </tr>\n",
       "    <tr>\n",
       "      <th>75%</th>\n",
       "      <td>23765.500000</td>\n",
       "      <td>0.0</td>\n",
       "      <td>0.0</td>\n",
       "      <td>2005.0</td>\n",
       "      <td>4.0</td>\n",
       "      <td>2.000000</td>\n",
       "      <td>20494.500000</td>\n",
       "      <td>5551.000000</td>\n",
       "      <td>16078.500000</td>\n",
       "      <td>2910.000000</td>\n",
       "      <td>321.000000</td>\n",
       "      <td>4.000000</td>\n",
       "    </tr>\n",
       "    <tr>\n",
       "      <th>max</th>\n",
       "      <td>31653.000000</td>\n",
       "      <td>0.0</td>\n",
       "      <td>0.0</td>\n",
       "      <td>2005.0</td>\n",
       "      <td>4.0</td>\n",
       "      <td>3.000000</td>\n",
       "      <td>27326.000000</td>\n",
       "      <td>6103.000000</td>\n",
       "      <td>21626.000000</td>\n",
       "      <td>3190.000000</td>\n",
       "      <td>733.000000</td>\n",
       "      <td>7.000000</td>\n",
       "    </tr>\n",
       "  </tbody>\n",
       "</table>\n",
       "</div>"
      ],
      "text/plain": [
       "                 ID  UsageClass  CheckoutType  CheckoutYear  CheckoutMonth  \\\n",
       "count  27327.000000     27327.0       27327.0       27327.0        27327.0   \n",
       "mean   15867.251327         0.0           0.0        2005.0            4.0   \n",
       "std     9128.183675         0.0           0.0           0.0            0.0   \n",
       "min        1.000000         0.0           0.0        2005.0            4.0   \n",
       "25%     7969.500000         0.0           0.0        2005.0            4.0   \n",
       "50%    15895.000000         0.0           0.0        2005.0            4.0   \n",
       "75%    23765.500000         0.0           0.0        2005.0            4.0   \n",
       "max    31653.000000         0.0           0.0        2005.0            4.0   \n",
       "\n",
       "          Checkouts         Title       Creator      Subjects     Publisher  \\\n",
       "count  27327.000000  27327.000000  27327.000000  27327.000000  27327.000000   \n",
       "mean       1.406631  13663.000000   4885.972884  10728.394262   2525.702272   \n",
       "std        0.659787   7888.769739   1428.985764   6057.931529    764.579588   \n",
       "min        1.000000      0.000000      0.000000      0.000000      0.000000   \n",
       "25%        1.000000   6831.500000   5551.000000   6086.500000   2689.500000   \n",
       "50%        1.000000  13663.000000   5551.000000  10404.000000   2910.000000   \n",
       "75%        2.000000  20494.500000   5551.000000  16078.500000   2910.000000   \n",
       "max        3.000000  27326.000000   6103.000000  21626.000000   3190.000000   \n",
       "\n",
       "       PublicationYear  MaterialType  \n",
       "count     27327.000000  27327.000000  \n",
       "mean        359.288945      1.403154  \n",
       "std         133.477033      2.348595  \n",
       "min           0.000000      0.000000  \n",
       "25%         321.000000      0.000000  \n",
       "50%         321.000000      0.000000  \n",
       "75%         321.000000      4.000000  \n",
       "max         733.000000      7.000000  "
      ]
     },
     "execution_count": 41,
     "metadata": {},
     "output_type": "execute_result"
    }
   ],
   "source": [
    "df.describe()"
   ]
  },
  {
   "cell_type": "code",
   "execution_count": 42,
   "id": "d23da88d",
   "metadata": {},
   "outputs": [
    {
     "name": "stderr",
     "output_type": "stream",
     "text": [
      "No handles with labels found to put in legend.\n",
      "No handles with labels found to put in legend.\n",
      "No handles with labels found to put in legend.\n",
      "No handles with labels found to put in legend.\n"
     ]
    },
    {
     "data": {
      "image/png": "[encoded data removed]",
      "text/plain": [
       "<Figure size 1800x1656 with 11 Axes>"
      ]
     },
     "metadata": {
      "needs_background": "light"
     },
     "output_type": "display_data"
    }
   ],
   "source": [
    "plt.figure(figsize=(25,23))\n",
    "plt.title('Before Scaling', fontsize=18)\n",
    "features = ['ID','UsageClass','CheckoutType','CheckoutYear','CheckoutYear' ,'Checkouts','Title' ,'Creator' ,'Subjects','Publisher','PublicationYear']\n",
    "for i in enumerate(features): \n",
    "    ax = plt.subplot(7, 3, i[0]+1)   \n",
    "    sns.kdeplot(df[i[1]], color ='#FF7433', label=i[1])\n",
    "    plt.legend(fontsize=10)"
   ]
  },
  {
   "cell_type": "code",
   "execution_count": 43,
   "id": "0aff0486",
   "metadata": {},
   "outputs": [],
   "source": [
    "from sklearn import preprocessing\n",
    "min_max = preprocessing.MinMaxScaler()\n",
    "for i in ['ID','Checkouts','Title' ,'Creator' ,'Subjects','Publisher','PublicationYear']:\n",
    "    df[[i]] = min_max.fit_transform(df[[i]])"
   ]
  },
  {
   "cell_type": "code",
   "execution_count": 44,
   "id": "df6aa817",
   "metadata": {},
   "outputs": [
    {
     "data": {
      "image/png": "[encoded data removed]",
      "text/plain": [
       "<Figure size 1800x1656 with 7 Axes>"
      ]
     },
     "metadata": {
      "needs_background": "light"
     },
     "output_type": "display_data"
    }
   ],
   "source": [
    "plt.figure(figsize=(25,23))\n",
    "plt.title('Before Scaling', fontsize=18)\n",
    "features = ['ID' ,'Checkouts','Title' ,'Creator' ,'Subjects','Publisher','PublicationYear']\n",
    "for i in enumerate(features): \n",
    "    ax = plt.subplot(7, 3, i[0]+1)   \n",
    "    sns.kdeplot(df[i[1]], color ='#FF7433', label=i[1])\n",
    "    plt.legend(fontsize=10)"
   ]
  },
  {
   "cell_type": "code",
   "execution_count": null,
   "id": "b8fd57f8",
   "metadata": {},
   "outputs": [],
   "source": []
  },
  {
   "cell_type": "code",
   "execution_count": 45,
   "id": "d25d3eb7",
   "metadata": {},
   "outputs": [],
   "source": [
    "x=df"
   ]
  },
  {
   "cell_type": "code",
   "execution_count": 46,
   "id": "89bf7371",
   "metadata": {},
   "outputs": [
    {
     "data": {
      "text/plain": [
       "<AxesSubplot:title={'center':'Heatmap of the Encoded Dataframe'}>"
      ]
     },
     "execution_count": 46,
     "metadata": {},
     "output_type": "execute_result"
    },
    {
     "data": {
      "image/png": "[encoded data removed]",
      "text/plain": [
       "<Figure size 2160x1440 with 2 Axes>"
      ]
     },
     "metadata": {
      "needs_background": "light"
     },
     "output_type": "display_data"
    }
   ],
   "source": [
    "corrmatrix = x.corr()\n",
    "# Creating Heatmap using seaborn & Correlation matrix\n",
    "plt.figure(figsize=(30,20))\n",
    "plt.title('Heatmap of the Encoded Dataframe', fontsize=20)\n",
    "colormap = sns.color_palette('ch:s=.25,rot=-.25')\n",
    "sns.heatmap(corrmatrix, annot=True, linewidth=0.75, cmap=\"YlGnBu\")"
   ]
  },
  {
   "cell_type": "code",
   "execution_count": 47,
   "id": "3fd0176a",
   "metadata": {},
   "outputs": [],
   "source": [
    "x=df.drop(['UsageClass','CheckoutYear','CheckoutType','CheckoutMonth','ID'], axis=1)"
   ]
  },
  {
   "cell_type": "code",
   "execution_count": 48,
   "id": "31a1d4f5",
   "metadata": {},
   "outputs": [
    {
     "data": {
      "text/html": [
       "<div>\n",
       "<style scoped>\n",
       "    .dataframe tbody tr th:only-of-type {\n",
       "        vertical-align: middle;\n",
       "    }\n",
       "\n",
       "    .dataframe tbody tr th {\n",
       "        vertical-align: top;\n",
       "    }\n",
       "\n",
       "    .dataframe thead th {\n",
       "        text-align: right;\n",
       "    }\n",
       "</style>\n",
       "<table border=\"1\" class=\"dataframe\">\n",
       "  <thead>\n",
       "    <tr style=\"text-align: right;\">\n",
       "      <th></th>\n",
       "      <th>Checkouts</th>\n",
       "      <th>Title</th>\n",
       "      <th>Creator</th>\n",
       "      <th>Subjects</th>\n",
       "      <th>Publisher</th>\n",
       "      <th>PublicationYear</th>\n",
       "      <th>MaterialType</th>\n",
       "    </tr>\n",
       "  </thead>\n",
       "  <tbody>\n",
       "    <tr>\n",
       "      <th>0</th>\n",
       "      <td>0.0</td>\n",
       "      <td>0.776989</td>\n",
       "      <td>0.909553</td>\n",
       "      <td>0.906316</td>\n",
       "      <td>0.912226</td>\n",
       "      <td>0.437926</td>\n",
       "      <td>0</td>\n",
       "    </tr>\n",
       "    <tr>\n",
       "      <th>1</th>\n",
       "      <td>0.0</td>\n",
       "      <td>0.432921</td>\n",
       "      <td>0.687039</td>\n",
       "      <td>0.318043</td>\n",
       "      <td>0.926019</td>\n",
       "      <td>0.301501</td>\n",
       "      <td>0</td>\n",
       "    </tr>\n",
       "    <tr>\n",
       "      <th>2</th>\n",
       "      <td>1.0</td>\n",
       "      <td>0.142538</td>\n",
       "      <td>0.321973</td>\n",
       "      <td>0.167299</td>\n",
       "      <td>0.290596</td>\n",
       "      <td>0.922237</td>\n",
       "      <td>0</td>\n",
       "    </tr>\n",
       "    <tr>\n",
       "      <th>3</th>\n",
       "      <td>0.0</td>\n",
       "      <td>0.048562</td>\n",
       "      <td>0.909553</td>\n",
       "      <td>0.957505</td>\n",
       "      <td>0.912226</td>\n",
       "      <td>0.437926</td>\n",
       "      <td>0</td>\n",
       "    </tr>\n",
       "    <tr>\n",
       "      <th>4</th>\n",
       "      <td>0.0</td>\n",
       "      <td>0.057125</td>\n",
       "      <td>0.909553</td>\n",
       "      <td>0.894063</td>\n",
       "      <td>0.912226</td>\n",
       "      <td>0.437926</td>\n",
       "      <td>0</td>\n",
       "    </tr>\n",
       "    <tr>\n",
       "      <th>...</th>\n",
       "      <td>...</td>\n",
       "      <td>...</td>\n",
       "      <td>...</td>\n",
       "      <td>...</td>\n",
       "      <td>...</td>\n",
       "      <td>...</td>\n",
       "      <td>...</td>\n",
       "    </tr>\n",
       "    <tr>\n",
       "      <th>31644</th>\n",
       "      <td>1.0</td>\n",
       "      <td>0.996377</td>\n",
       "      <td>0.909553</td>\n",
       "      <td>0.974568</td>\n",
       "      <td>0.912226</td>\n",
       "      <td>0.437926</td>\n",
       "      <td>0</td>\n",
       "    </tr>\n",
       "    <tr>\n",
       "      <th>31645</th>\n",
       "      <td>0.0</td>\n",
       "      <td>0.916453</td>\n",
       "      <td>0.909553</td>\n",
       "      <td>0.830852</td>\n",
       "      <td>0.912226</td>\n",
       "      <td>0.437926</td>\n",
       "      <td>0</td>\n",
       "    </tr>\n",
       "    <tr>\n",
       "      <th>31647</th>\n",
       "      <td>0.0</td>\n",
       "      <td>0.504904</td>\n",
       "      <td>0.909553</td>\n",
       "      <td>0.570794</td>\n",
       "      <td>0.912226</td>\n",
       "      <td>0.437926</td>\n",
       "      <td>0</td>\n",
       "    </tr>\n",
       "    <tr>\n",
       "      <th>31648</th>\n",
       "      <td>0.5</td>\n",
       "      <td>0.119739</td>\n",
       "      <td>0.909553</td>\n",
       "      <td>0.124064</td>\n",
       "      <td>0.912226</td>\n",
       "      <td>0.437926</td>\n",
       "      <td>0</td>\n",
       "    </tr>\n",
       "    <tr>\n",
       "      <th>31652</th>\n",
       "      <td>0.5</td>\n",
       "      <td>0.347764</td>\n",
       "      <td>0.909553</td>\n",
       "      <td>0.318043</td>\n",
       "      <td>0.912226</td>\n",
       "      <td>0.437926</td>\n",
       "      <td>2</td>\n",
       "    </tr>\n",
       "  </tbody>\n",
       "</table>\n",
       "<p>27327 rows × 7 columns</p>\n",
       "</div>"
      ],
      "text/plain": [
       "       Checkouts     Title   Creator  Subjects  Publisher  PublicationYear  \\\n",
       "0            0.0  0.776989  0.909553  0.906316   0.912226         0.437926   \n",
       "1            0.0  0.432921  0.687039  0.318043   0.926019         0.301501   \n",
       "2            1.0  0.142538  0.321973  0.167299   0.290596         0.922237   \n",
       "3            0.0  0.048562  0.909553  0.957505   0.912226         0.437926   \n",
       "4            0.0  0.057125  0.909553  0.894063   0.912226         0.437926   \n",
       "...          ...       ...       ...       ...        ...              ...   \n",
       "31644        1.0  0.996377  0.909553  0.974568   0.912226         0.437926   \n",
       "31645        0.0  0.916453  0.909553  0.830852   0.912226         0.437926   \n",
       "31647        0.0  0.504904  0.909553  0.570794   0.912226         0.437926   \n",
       "31648        0.5  0.119739  0.909553  0.124064   0.912226         0.437926   \n",
       "31652        0.5  0.347764  0.909553  0.318043   0.912226         0.437926   \n",
       "\n",
       "       MaterialType  \n",
       "0                 0  \n",
       "1                 0  \n",
       "2                 0  \n",
       "3                 0  \n",
       "4                 0  \n",
       "...             ...  \n",
       "31644             0  \n",
       "31645             0  \n",
       "31647             0  \n",
       "31648             0  \n",
       "31652             2  \n",
       "\n",
       "[27327 rows x 7 columns]"
      ]
     },
     "execution_count": 48,
     "metadata": {},
     "output_type": "execute_result"
    }
   ],
   "source": [
    "x"
   ]
  },
  {
   "cell_type": "code",
   "execution_count": 49,
   "id": "218a97b6",
   "metadata": {},
   "outputs": [],
   "source": [
    "x_train=x.drop(['MaterialType'],axis=1)"
   ]
  },
  {
   "cell_type": "code",
   "execution_count": 50,
   "id": "5fb4e6e2",
   "metadata": {},
   "outputs": [
    {
     "data": {
      "text/html": [
       "<div>\n",
       "<style scoped>\n",
       "    .dataframe tbody tr th:only-of-type {\n",
       "        vertical-align: middle;\n",
       "    }\n",
       "\n",
       "    .dataframe tbody tr th {\n",
       "        vertical-align: top;\n",
       "    }\n",
       "\n",
       "    .dataframe thead th {\n",
       "        text-align: right;\n",
       "    }\n",
       "</style>\n",
       "<table border=\"1\" class=\"dataframe\">\n",
       "  <thead>\n",
       "    <tr style=\"text-align: right;\">\n",
       "      <th></th>\n",
       "      <th>Checkouts</th>\n",
       "      <th>Title</th>\n",
       "      <th>Creator</th>\n",
       "      <th>Subjects</th>\n",
       "      <th>Publisher</th>\n",
       "      <th>PublicationYear</th>\n",
       "    </tr>\n",
       "  </thead>\n",
       "  <tbody>\n",
       "    <tr>\n",
       "      <th>0</th>\n",
       "      <td>0.0</td>\n",
       "      <td>0.776989</td>\n",
       "      <td>0.909553</td>\n",
       "      <td>0.906316</td>\n",
       "      <td>0.912226</td>\n",
       "      <td>0.437926</td>\n",
       "    </tr>\n",
       "    <tr>\n",
       "      <th>1</th>\n",
       "      <td>0.0</td>\n",
       "      <td>0.432921</td>\n",
       "      <td>0.687039</td>\n",
       "      <td>0.318043</td>\n",
       "      <td>0.926019</td>\n",
       "      <td>0.301501</td>\n",
       "    </tr>\n",
       "    <tr>\n",
       "      <th>2</th>\n",
       "      <td>1.0</td>\n",
       "      <td>0.142538</td>\n",
       "      <td>0.321973</td>\n",
       "      <td>0.167299</td>\n",
       "      <td>0.290596</td>\n",
       "      <td>0.922237</td>\n",
       "    </tr>\n",
       "    <tr>\n",
       "      <th>3</th>\n",
       "      <td>0.0</td>\n",
       "      <td>0.048562</td>\n",
       "      <td>0.909553</td>\n",
       "      <td>0.957505</td>\n",
       "      <td>0.912226</td>\n",
       "      <td>0.437926</td>\n",
       "    </tr>\n",
       "    <tr>\n",
       "      <th>4</th>\n",
       "      <td>0.0</td>\n",
       "      <td>0.057125</td>\n",
       "      <td>0.909553</td>\n",
       "      <td>0.894063</td>\n",
       "      <td>0.912226</td>\n",
       "      <td>0.437926</td>\n",
       "    </tr>\n",
       "    <tr>\n",
       "      <th>...</th>\n",
       "      <td>...</td>\n",
       "      <td>...</td>\n",
       "      <td>...</td>\n",
       "      <td>...</td>\n",
       "      <td>...</td>\n",
       "      <td>...</td>\n",
       "    </tr>\n",
       "    <tr>\n",
       "      <th>31644</th>\n",
       "      <td>1.0</td>\n",
       "      <td>0.996377</td>\n",
       "      <td>0.909553</td>\n",
       "      <td>0.974568</td>\n",
       "      <td>0.912226</td>\n",
       "      <td>0.437926</td>\n",
       "    </tr>\n",
       "    <tr>\n",
       "      <th>31645</th>\n",
       "      <td>0.0</td>\n",
       "      <td>0.916453</td>\n",
       "      <td>0.909553</td>\n",
       "      <td>0.830852</td>\n",
       "      <td>0.912226</td>\n",
       "      <td>0.437926</td>\n",
       "    </tr>\n",
       "    <tr>\n",
       "      <th>31647</th>\n",
       "      <td>0.0</td>\n",
       "      <td>0.504904</td>\n",
       "      <td>0.909553</td>\n",
       "      <td>0.570794</td>\n",
       "      <td>0.912226</td>\n",
       "      <td>0.437926</td>\n",
       "    </tr>\n",
       "    <tr>\n",
       "      <th>31648</th>\n",
       "      <td>0.5</td>\n",
       "      <td>0.119739</td>\n",
       "      <td>0.909553</td>\n",
       "      <td>0.124064</td>\n",
       "      <td>0.912226</td>\n",
       "      <td>0.437926</td>\n",
       "    </tr>\n",
       "    <tr>\n",
       "      <th>31652</th>\n",
       "      <td>0.5</td>\n",
       "      <td>0.347764</td>\n",
       "      <td>0.909553</td>\n",
       "      <td>0.318043</td>\n",
       "      <td>0.912226</td>\n",
       "      <td>0.437926</td>\n",
       "    </tr>\n",
       "  </tbody>\n",
       "</table>\n",
       "<p>27327 rows × 6 columns</p>\n",
       "</div>"
      ],
      "text/plain": [
       "       Checkouts     Title   Creator  Subjects  Publisher  PublicationYear\n",
       "0            0.0  0.776989  0.909553  0.906316   0.912226         0.437926\n",
       "1            0.0  0.432921  0.687039  0.318043   0.926019         0.301501\n",
       "2            1.0  0.142538  0.321973  0.167299   0.290596         0.922237\n",
       "3            0.0  0.048562  0.909553  0.957505   0.912226         0.437926\n",
       "4            0.0  0.057125  0.909553  0.894063   0.912226         0.437926\n",
       "...          ...       ...       ...       ...        ...              ...\n",
       "31644        1.0  0.996377  0.909553  0.974568   0.912226         0.437926\n",
       "31645        0.0  0.916453  0.909553  0.830852   0.912226         0.437926\n",
       "31647        0.0  0.504904  0.909553  0.570794   0.912226         0.437926\n",
       "31648        0.5  0.119739  0.909553  0.124064   0.912226         0.437926\n",
       "31652        0.5  0.347764  0.909553  0.318043   0.912226         0.437926\n",
       "\n",
       "[27327 rows x 6 columns]"
      ]
     },
     "execution_count": 50,
     "metadata": {},
     "output_type": "execute_result"
    }
   ],
   "source": [
    "x_train"
   ]
  },
  {
   "cell_type": "code",
   "execution_count": 51,
   "id": "e789d77d",
   "metadata": {},
   "outputs": [],
   "source": [
    "y_train=x[['MaterialType']]"
   ]
  },
  {
   "cell_type": "code",
   "execution_count": 52,
   "id": "39b1de0c",
   "metadata": {},
   "outputs": [
    {
     "data": {
      "text/html": [
       "<div>\n",
       "<style scoped>\n",
       "    .dataframe tbody tr th:only-of-type {\n",
       "        vertical-align: middle;\n",
       "    }\n",
       "\n",
       "    .dataframe tbody tr th {\n",
       "        vertical-align: top;\n",
       "    }\n",
       "\n",
       "    .dataframe thead th {\n",
       "        text-align: right;\n",
       "    }\n",
       "</style>\n",
       "<table border=\"1\" class=\"dataframe\">\n",
       "  <thead>\n",
       "    <tr style=\"text-align: right;\">\n",
       "      <th></th>\n",
       "      <th>MaterialType</th>\n",
       "    </tr>\n",
       "  </thead>\n",
       "  <tbody>\n",
       "    <tr>\n",
       "      <th>0</th>\n",
       "      <td>0</td>\n",
       "    </tr>\n",
       "    <tr>\n",
       "      <th>1</th>\n",
       "      <td>0</td>\n",
       "    </tr>\n",
       "    <tr>\n",
       "      <th>2</th>\n",
       "      <td>0</td>\n",
       "    </tr>\n",
       "    <tr>\n",
       "      <th>3</th>\n",
       "      <td>0</td>\n",
       "    </tr>\n",
       "    <tr>\n",
       "      <th>4</th>\n",
       "      <td>0</td>\n",
       "    </tr>\n",
       "    <tr>\n",
       "      <th>...</th>\n",
       "      <td>...</td>\n",
       "    </tr>\n",
       "    <tr>\n",
       "      <th>31644</th>\n",
       "      <td>0</td>\n",
       "    </tr>\n",
       "    <tr>\n",
       "      <th>31645</th>\n",
       "      <td>0</td>\n",
       "    </tr>\n",
       "    <tr>\n",
       "      <th>31647</th>\n",
       "      <td>0</td>\n",
       "    </tr>\n",
       "    <tr>\n",
       "      <th>31648</th>\n",
       "      <td>0</td>\n",
       "    </tr>\n",
       "    <tr>\n",
       "      <th>31652</th>\n",
       "      <td>2</td>\n",
       "    </tr>\n",
       "  </tbody>\n",
       "</table>\n",
       "<p>27327 rows × 1 columns</p>\n",
       "</div>"
      ],
      "text/plain": [
       "       MaterialType\n",
       "0                 0\n",
       "1                 0\n",
       "2                 0\n",
       "3                 0\n",
       "4                 0\n",
       "...             ...\n",
       "31644             0\n",
       "31645             0\n",
       "31647             0\n",
       "31648             0\n",
       "31652             2\n",
       "\n",
       "[27327 rows x 1 columns]"
      ]
     },
     "execution_count": 52,
     "metadata": {},
     "output_type": "execute_result"
    }
   ],
   "source": [
    "y_train"
   ]
  },
  {
   "cell_type": "code",
   "execution_count": 53,
   "id": "948349f5",
   "metadata": {},
   "outputs": [],
   "source": [
    "import time\n",
    "from sklearn.metrics import accuracy_score, precision_score, recall_score, f1_score\n",
    "from sklearn.metrics import ConfusionMatrixDisplay"
   ]
  },
  {
   "cell_type": "code",
   "execution_count": 54,
   "id": "67a340d6",
   "metadata": {},
   "outputs": [
    {
     "name": "stdout",
     "output_type": "stream",
     "text": [
      "Training Time: 1.2\n"
     ]
    }
   ],
   "source": [
    "from sklearn.linear_model import LogisticRegression\n",
    "logreg = LogisticRegression()\n",
    "start_time = time.time()\n",
    "logreg.fit(x_train, y_train)\n",
    "end_time = time.time()\n",
    "print('Training Time:', round(end_time-start_time,2))"
   ]
  },
  {
   "cell_type": "code",
   "execution_count": 55,
   "id": "513708e0",
   "metadata": {},
   "outputs": [],
   "source": [
    "dt=pd.read_csv('test_file.csv')"
   ]
  },
  {
   "cell_type": "code",
   "execution_count": 56,
   "id": "42348f20",
   "metadata": {},
   "outputs": [
    {
     "data": {
      "text/html": [
       "<div>\n",
       "<style scoped>\n",
       "    .dataframe tbody tr th:only-of-type {\n",
       "        vertical-align: middle;\n",
       "    }\n",
       "\n",
       "    .dataframe tbody tr th {\n",
       "        vertical-align: top;\n",
       "    }\n",
       "\n",
       "    .dataframe thead th {\n",
       "        text-align: right;\n",
       "    }\n",
       "</style>\n",
       "<table border=\"1\" class=\"dataframe\">\n",
       "  <thead>\n",
       "    <tr style=\"text-align: right;\">\n",
       "      <th></th>\n",
       "      <th>ID</th>\n",
       "      <th>UsageClass</th>\n",
       "      <th>CheckoutType</th>\n",
       "      <th>CheckoutYear</th>\n",
       "      <th>CheckoutMonth</th>\n",
       "      <th>Checkouts</th>\n",
       "      <th>Title</th>\n",
       "      <th>Creator</th>\n",
       "      <th>Subjects</th>\n",
       "      <th>Publisher</th>\n",
       "      <th>PublicationYear</th>\n",
       "    </tr>\n",
       "  </thead>\n",
       "  <tbody>\n",
       "    <tr>\n",
       "      <th>0</th>\n",
       "      <td>31654</td>\n",
       "      <td>Physical</td>\n",
       "      <td>Horizon</td>\n",
       "      <td>2005</td>\n",
       "      <td>4</td>\n",
       "      <td>1</td>\n",
       "      <td>Footprints at the window</td>\n",
       "      <td>NaN</td>\n",
       "      <td>England Fiction, Space and time Fiction</td>\n",
       "      <td>NaN</td>\n",
       "      <td>NaN</td>\n",
       "    </tr>\n",
       "    <tr>\n",
       "      <th>1</th>\n",
       "      <td>31655</td>\n",
       "      <td>Physical</td>\n",
       "      <td>Horizon</td>\n",
       "      <td>2005</td>\n",
       "      <td>4</td>\n",
       "      <td>2</td>\n",
       "      <td>Seven brides for seven brothers</td>\n",
       "      <td>NaN</td>\n",
       "      <td>Video recordings for the hearing impaired, Mus...</td>\n",
       "      <td>NaN</td>\n",
       "      <td>NaN</td>\n",
       "    </tr>\n",
       "    <tr>\n",
       "      <th>2</th>\n",
       "      <td>31656</td>\n",
       "      <td>Physical</td>\n",
       "      <td>Horizon</td>\n",
       "      <td>2005</td>\n",
       "      <td>4</td>\n",
       "      <td>2</td>\n",
       "      <td>History [sound recording] / Loudon Wainwright ...</td>\n",
       "      <td>Wainwright, Loudon, III, 1946-</td>\n",
       "      <td>Popular music 1991 2000</td>\n",
       "      <td>Charisma,</td>\n",
       "      <td>p1992.</td>\n",
       "    </tr>\n",
       "    <tr>\n",
       "      <th>3</th>\n",
       "      <td>31657</td>\n",
       "      <td>Physical</td>\n",
       "      <td>Horizon</td>\n",
       "      <td>2005</td>\n",
       "      <td>4</td>\n",
       "      <td>2</td>\n",
       "      <td>Doing big business on the internet</td>\n",
       "      <td>NaN</td>\n",
       "      <td>Internet, Internet advertising, Information ne...</td>\n",
       "      <td>NaN</td>\n",
       "      <td>NaN</td>\n",
       "    </tr>\n",
       "    <tr>\n",
       "      <th>4</th>\n",
       "      <td>31658</td>\n",
       "      <td>Physical</td>\n",
       "      <td>Horizon</td>\n",
       "      <td>2005</td>\n",
       "      <td>4</td>\n",
       "      <td>2</td>\n",
       "      <td>Lets learn how to dance shag</td>\n",
       "      <td>NaN</td>\n",
       "      <td>Shag Dance, Ballroom dancing</td>\n",
       "      <td>NaN</td>\n",
       "      <td>NaN</td>\n",
       "    </tr>\n",
       "    <tr>\n",
       "      <th>...</th>\n",
       "      <td>...</td>\n",
       "      <td>...</td>\n",
       "      <td>...</td>\n",
       "      <td>...</td>\n",
       "      <td>...</td>\n",
       "      <td>...</td>\n",
       "      <td>...</td>\n",
       "      <td>...</td>\n",
       "      <td>...</td>\n",
       "      <td>...</td>\n",
       "      <td>...</td>\n",
       "    </tr>\n",
       "    <tr>\n",
       "      <th>21097</th>\n",
       "      <td>52751</td>\n",
       "      <td>Physical</td>\n",
       "      <td>Horizon</td>\n",
       "      <td>2005</td>\n",
       "      <td>4</td>\n",
       "      <td>1</td>\n",
       "      <td>History of womens costume</td>\n",
       "      <td>NaN</td>\n",
       "      <td>Costume History</td>\n",
       "      <td>NaN</td>\n",
       "      <td>NaN</td>\n",
       "    </tr>\n",
       "    <tr>\n",
       "      <th>21098</th>\n",
       "      <td>52752</td>\n",
       "      <td>Physical</td>\n",
       "      <td>Horizon</td>\n",
       "      <td>2005</td>\n",
       "      <td>4</td>\n",
       "      <td>10</td>\n",
       "      <td>Miss Smith's incredible storybook / Michael Ga...</td>\n",
       "      <td>Garland, Michael, 1952-</td>\n",
       "      <td>Books and reading Juvenile fiction, Teachers J...</td>\n",
       "      <td>Dutton Children's Books,</td>\n",
       "      <td>2003.</td>\n",
       "    </tr>\n",
       "    <tr>\n",
       "      <th>21099</th>\n",
       "      <td>52753</td>\n",
       "      <td>Physical</td>\n",
       "      <td>Horizon</td>\n",
       "      <td>2005</td>\n",
       "      <td>4</td>\n",
       "      <td>1</td>\n",
       "      <td>Sir Philip's folly / Marion Chesney.</td>\n",
       "      <td>Chesney, Marion</td>\n",
       "      <td>Man woman relationships England Fiction, Famil...</td>\n",
       "      <td>St. Martin's Press,</td>\n",
       "      <td>1993.</td>\n",
       "    </tr>\n",
       "    <tr>\n",
       "      <th>21100</th>\n",
       "      <td>52754</td>\n",
       "      <td>Physical</td>\n",
       "      <td>Horizon</td>\n",
       "      <td>2005</td>\n",
       "      <td>4</td>\n",
       "      <td>6</td>\n",
       "      <td>Miss congeniality</td>\n",
       "      <td>NaN</td>\n",
       "      <td>Video recordings for the hearing impaired, Fea...</td>\n",
       "      <td>NaN</td>\n",
       "      <td>NaN</td>\n",
       "    </tr>\n",
       "    <tr>\n",
       "      <th>21101</th>\n",
       "      <td>52755</td>\n",
       "      <td>Physical</td>\n",
       "      <td>Horizon</td>\n",
       "      <td>2005</td>\n",
       "      <td>4</td>\n",
       "      <td>2</td>\n",
       "      <td>At his best [sound recording] / Bill Monroe.</td>\n",
       "      <td>Monroe, Bill, 1911-1996</td>\n",
       "      <td>Country music, Bluegrass music</td>\n",
       "      <td>Hollywood,</td>\n",
       "      <td>p1989.</td>\n",
       "    </tr>\n",
       "  </tbody>\n",
       "</table>\n",
       "<p>21102 rows × 11 columns</p>\n",
       "</div>"
      ],
      "text/plain": [
       "          ID UsageClass CheckoutType  CheckoutYear  CheckoutMonth  Checkouts  \\\n",
       "0      31654   Physical      Horizon          2005              4          1   \n",
       "1      31655   Physical      Horizon          2005              4          2   \n",
       "2      31656   Physical      Horizon          2005              4          2   \n",
       "3      31657   Physical      Horizon          2005              4          2   \n",
       "4      31658   Physical      Horizon          2005              4          2   \n",
       "...      ...        ...          ...           ...            ...        ...   \n",
       "21097  52751   Physical      Horizon          2005              4          1   \n",
       "21098  52752   Physical      Horizon          2005              4         10   \n",
       "21099  52753   Physical      Horizon          2005              4          1   \n",
       "21100  52754   Physical      Horizon          2005              4          6   \n",
       "21101  52755   Physical      Horizon          2005              4          2   \n",
       "\n",
       "                                                   Title  \\\n",
       "0                               Footprints at the window   \n",
       "1                        Seven brides for seven brothers   \n",
       "2      History [sound recording] / Loudon Wainwright ...   \n",
       "3                     Doing big business on the internet   \n",
       "4                           Lets learn how to dance shag   \n",
       "...                                                  ...   \n",
       "21097                          History of womens costume   \n",
       "21098  Miss Smith's incredible storybook / Michael Ga...   \n",
       "21099               Sir Philip's folly / Marion Chesney.   \n",
       "21100                                  Miss congeniality   \n",
       "21101       At his best [sound recording] / Bill Monroe.   \n",
       "\n",
       "                              Creator  \\\n",
       "0                                 NaN   \n",
       "1                                 NaN   \n",
       "2      Wainwright, Loudon, III, 1946-   \n",
       "3                                 NaN   \n",
       "4                                 NaN   \n",
       "...                               ...   \n",
       "21097                             NaN   \n",
       "21098         Garland, Michael, 1952-   \n",
       "21099                 Chesney, Marion   \n",
       "21100                             NaN   \n",
       "21101         Monroe, Bill, 1911-1996   \n",
       "\n",
       "                                                Subjects  \\\n",
       "0                England Fiction, Space and time Fiction   \n",
       "1      Video recordings for the hearing impaired, Mus...   \n",
       "2                                Popular music 1991 2000   \n",
       "3      Internet, Internet advertising, Information ne...   \n",
       "4                           Shag Dance, Ballroom dancing   \n",
       "...                                                  ...   \n",
       "21097                                    Costume History   \n",
       "21098  Books and reading Juvenile fiction, Teachers J...   \n",
       "21099  Man woman relationships England Fiction, Famil...   \n",
       "21100  Video recordings for the hearing impaired, Fea...   \n",
       "21101                     Country music, Bluegrass music   \n",
       "\n",
       "                      Publisher PublicationYear  \n",
       "0                           NaN             NaN  \n",
       "1                           NaN             NaN  \n",
       "2                     Charisma,          p1992.  \n",
       "3                           NaN             NaN  \n",
       "4                           NaN             NaN  \n",
       "...                         ...             ...  \n",
       "21097                       NaN             NaN  \n",
       "21098  Dutton Children's Books,           2003.  \n",
       "21099       St. Martin's Press,           1993.  \n",
       "21100                       NaN             NaN  \n",
       "21101                Hollywood,          p1989.  \n",
       "\n",
       "[21102 rows x 11 columns]"
      ]
     },
     "execution_count": 56,
     "metadata": {},
     "output_type": "execute_result"
    }
   ],
   "source": [
    "dt"
   ]
  },
  {
   "cell_type": "code",
   "execution_count": 57,
   "id": "c4cd8bbe",
   "metadata": {},
   "outputs": [
    {
     "data": {
      "text/plain": [
       "<AxesSubplot:>"
      ]
     },
     "execution_count": 57,
     "metadata": {},
     "output_type": "execute_result"
    },
    {
     "data": {
      "image/png": "[encoded data removed]",
      "text/plain": [
       "<Figure size 432x288 with 1 Axes>"
      ]
     },
     "metadata": {
      "needs_background": "light"
     },
     "output_type": "display_data"
    }
   ],
   "source": [
    "dt.boxplot(['Checkouts'])"
   ]
  },
  {
   "cell_type": "code",
   "execution_count": 58,
   "id": "f18f4bb1",
   "metadata": {},
   "outputs": [],
   "source": [
    "q2=np.percentile(dt['Checkouts'],75,interpolation='midpoint')"
   ]
  },
  {
   "cell_type": "code",
   "execution_count": 59,
   "id": "63775ea7",
   "metadata": {},
   "outputs": [
    {
     "data": {
      "text/plain": [
       "2.0"
      ]
     },
     "execution_count": 59,
     "metadata": {},
     "output_type": "execute_result"
    }
   ],
   "source": [
    "q2"
   ]
  },
  {
   "cell_type": "code",
   "execution_count": 60,
   "id": "540ceb2c",
   "metadata": {},
   "outputs": [],
   "source": [
    "u=q2+1.5*1"
   ]
  },
  {
   "cell_type": "code",
   "execution_count": 61,
   "id": "466b35a4",
   "metadata": {},
   "outputs": [
    {
     "data": {
      "text/plain": [
       "3.5"
      ]
     },
     "execution_count": 61,
     "metadata": {},
     "output_type": "execute_result"
    }
   ],
   "source": [
    "u"
   ]
  },
  {
   "cell_type": "code",
   "execution_count": 62,
   "id": "bae9fd59",
   "metadata": {},
   "outputs": [],
   "source": [
    "s=dt.loc[dt['Checkouts']>3.5].index"
   ]
  },
  {
   "cell_type": "code",
   "execution_count": 63,
   "id": "0c5160c6",
   "metadata": {},
   "outputs": [],
   "source": [
    "dt.drop(s,inplace=True)"
   ]
  },
  {
   "cell_type": "code",
   "execution_count": 64,
   "id": "881bb0eb",
   "metadata": {},
   "outputs": [
    {
     "data": {
      "text/html": [
       "<div>\n",
       "<style scoped>\n",
       "    .dataframe tbody tr th:only-of-type {\n",
       "        vertical-align: middle;\n",
       "    }\n",
       "\n",
       "    .dataframe tbody tr th {\n",
       "        vertical-align: top;\n",
       "    }\n",
       "\n",
       "    .dataframe thead th {\n",
       "        text-align: right;\n",
       "    }\n",
       "</style>\n",
       "<table border=\"1\" class=\"dataframe\">\n",
       "  <thead>\n",
       "    <tr style=\"text-align: right;\">\n",
       "      <th></th>\n",
       "      <th>ID</th>\n",
       "      <th>UsageClass</th>\n",
       "      <th>CheckoutType</th>\n",
       "      <th>CheckoutYear</th>\n",
       "      <th>CheckoutMonth</th>\n",
       "      <th>Checkouts</th>\n",
       "      <th>Title</th>\n",
       "      <th>Creator</th>\n",
       "      <th>Subjects</th>\n",
       "      <th>Publisher</th>\n",
       "      <th>PublicationYear</th>\n",
       "    </tr>\n",
       "  </thead>\n",
       "  <tbody>\n",
       "    <tr>\n",
       "      <th>0</th>\n",
       "      <td>31654</td>\n",
       "      <td>Physical</td>\n",
       "      <td>Horizon</td>\n",
       "      <td>2005</td>\n",
       "      <td>4</td>\n",
       "      <td>1</td>\n",
       "      <td>Footprints at the window</td>\n",
       "      <td>NaN</td>\n",
       "      <td>England Fiction, Space and time Fiction</td>\n",
       "      <td>NaN</td>\n",
       "      <td>NaN</td>\n",
       "    </tr>\n",
       "    <tr>\n",
       "      <th>1</th>\n",
       "      <td>31655</td>\n",
       "      <td>Physical</td>\n",
       "      <td>Horizon</td>\n",
       "      <td>2005</td>\n",
       "      <td>4</td>\n",
       "      <td>2</td>\n",
       "      <td>Seven brides for seven brothers</td>\n",
       "      <td>NaN</td>\n",
       "      <td>Video recordings for the hearing impaired, Mus...</td>\n",
       "      <td>NaN</td>\n",
       "      <td>NaN</td>\n",
       "    </tr>\n",
       "    <tr>\n",
       "      <th>2</th>\n",
       "      <td>31656</td>\n",
       "      <td>Physical</td>\n",
       "      <td>Horizon</td>\n",
       "      <td>2005</td>\n",
       "      <td>4</td>\n",
       "      <td>2</td>\n",
       "      <td>History [sound recording] / Loudon Wainwright ...</td>\n",
       "      <td>Wainwright, Loudon, III, 1946-</td>\n",
       "      <td>Popular music 1991 2000</td>\n",
       "      <td>Charisma,</td>\n",
       "      <td>p1992.</td>\n",
       "    </tr>\n",
       "    <tr>\n",
       "      <th>3</th>\n",
       "      <td>31657</td>\n",
       "      <td>Physical</td>\n",
       "      <td>Horizon</td>\n",
       "      <td>2005</td>\n",
       "      <td>4</td>\n",
       "      <td>2</td>\n",
       "      <td>Doing big business on the internet</td>\n",
       "      <td>NaN</td>\n",
       "      <td>Internet, Internet advertising, Information ne...</td>\n",
       "      <td>NaN</td>\n",
       "      <td>NaN</td>\n",
       "    </tr>\n",
       "    <tr>\n",
       "      <th>4</th>\n",
       "      <td>31658</td>\n",
       "      <td>Physical</td>\n",
       "      <td>Horizon</td>\n",
       "      <td>2005</td>\n",
       "      <td>4</td>\n",
       "      <td>2</td>\n",
       "      <td>Lets learn how to dance shag</td>\n",
       "      <td>NaN</td>\n",
       "      <td>Shag Dance, Ballroom dancing</td>\n",
       "      <td>NaN</td>\n",
       "      <td>NaN</td>\n",
       "    </tr>\n",
       "    <tr>\n",
       "      <th>...</th>\n",
       "      <td>...</td>\n",
       "      <td>...</td>\n",
       "      <td>...</td>\n",
       "      <td>...</td>\n",
       "      <td>...</td>\n",
       "      <td>...</td>\n",
       "      <td>...</td>\n",
       "      <td>...</td>\n",
       "      <td>...</td>\n",
       "      <td>...</td>\n",
       "      <td>...</td>\n",
       "    </tr>\n",
       "    <tr>\n",
       "      <th>21095</th>\n",
       "      <td>52749</td>\n",
       "      <td>Physical</td>\n",
       "      <td>Horizon</td>\n",
       "      <td>2005</td>\n",
       "      <td>4</td>\n",
       "      <td>1</td>\n",
       "      <td>Britney Spears backstage pass</td>\n",
       "      <td>NaN</td>\n",
       "      <td>Spears Britney Juvenile literature, Singers Bi...</td>\n",
       "      <td>NaN</td>\n",
       "      <td>NaN</td>\n",
       "    </tr>\n",
       "    <tr>\n",
       "      <th>21096</th>\n",
       "      <td>52750</td>\n",
       "      <td>Physical</td>\n",
       "      <td>Horizon</td>\n",
       "      <td>2005</td>\n",
       "      <td>4</td>\n",
       "      <td>2</td>\n",
       "      <td>Grandmother Winter / Phyllis Root ; pictures b...</td>\n",
       "      <td>Root, Phyllis</td>\n",
       "      <td>Winter Fiction, Snow Juvenile fiction, Animals...</td>\n",
       "      <td>Houghton Mifflin Co.,</td>\n",
       "      <td>1999.</td>\n",
       "    </tr>\n",
       "    <tr>\n",
       "      <th>21097</th>\n",
       "      <td>52751</td>\n",
       "      <td>Physical</td>\n",
       "      <td>Horizon</td>\n",
       "      <td>2005</td>\n",
       "      <td>4</td>\n",
       "      <td>1</td>\n",
       "      <td>History of womens costume</td>\n",
       "      <td>NaN</td>\n",
       "      <td>Costume History</td>\n",
       "      <td>NaN</td>\n",
       "      <td>NaN</td>\n",
       "    </tr>\n",
       "    <tr>\n",
       "      <th>21099</th>\n",
       "      <td>52753</td>\n",
       "      <td>Physical</td>\n",
       "      <td>Horizon</td>\n",
       "      <td>2005</td>\n",
       "      <td>4</td>\n",
       "      <td>1</td>\n",
       "      <td>Sir Philip's folly / Marion Chesney.</td>\n",
       "      <td>Chesney, Marion</td>\n",
       "      <td>Man woman relationships England Fiction, Famil...</td>\n",
       "      <td>St. Martin's Press,</td>\n",
       "      <td>1993.</td>\n",
       "    </tr>\n",
       "    <tr>\n",
       "      <th>21101</th>\n",
       "      <td>52755</td>\n",
       "      <td>Physical</td>\n",
       "      <td>Horizon</td>\n",
       "      <td>2005</td>\n",
       "      <td>4</td>\n",
       "      <td>2</td>\n",
       "      <td>At his best [sound recording] / Bill Monroe.</td>\n",
       "      <td>Monroe, Bill, 1911-1996</td>\n",
       "      <td>Country music, Bluegrass music</td>\n",
       "      <td>Hollywood,</td>\n",
       "      <td>p1989.</td>\n",
       "    </tr>\n",
       "  </tbody>\n",
       "</table>\n",
       "<p>18308 rows × 11 columns</p>\n",
       "</div>"
      ],
      "text/plain": [
       "          ID UsageClass CheckoutType  CheckoutYear  CheckoutMonth  Checkouts  \\\n",
       "0      31654   Physical      Horizon          2005              4          1   \n",
       "1      31655   Physical      Horizon          2005              4          2   \n",
       "2      31656   Physical      Horizon          2005              4          2   \n",
       "3      31657   Physical      Horizon          2005              4          2   \n",
       "4      31658   Physical      Horizon          2005              4          2   \n",
       "...      ...        ...          ...           ...            ...        ...   \n",
       "21095  52749   Physical      Horizon          2005              4          1   \n",
       "21096  52750   Physical      Horizon          2005              4          2   \n",
       "21097  52751   Physical      Horizon          2005              4          1   \n",
       "21099  52753   Physical      Horizon          2005              4          1   \n",
       "21101  52755   Physical      Horizon          2005              4          2   \n",
       "\n",
       "                                                   Title  \\\n",
       "0                               Footprints at the window   \n",
       "1                        Seven brides for seven brothers   \n",
       "2      History [sound recording] / Loudon Wainwright ...   \n",
       "3                     Doing big business on the internet   \n",
       "4                           Lets learn how to dance shag   \n",
       "...                                                  ...   \n",
       "21095                      Britney Spears backstage pass   \n",
       "21096  Grandmother Winter / Phyllis Root ; pictures b...   \n",
       "21097                          History of womens costume   \n",
       "21099               Sir Philip's folly / Marion Chesney.   \n",
       "21101       At his best [sound recording] / Bill Monroe.   \n",
       "\n",
       "                              Creator  \\\n",
       "0                                 NaN   \n",
       "1                                 NaN   \n",
       "2      Wainwright, Loudon, III, 1946-   \n",
       "3                                 NaN   \n",
       "4                                 NaN   \n",
       "...                               ...   \n",
       "21095                             NaN   \n",
       "21096                   Root, Phyllis   \n",
       "21097                             NaN   \n",
       "21099                 Chesney, Marion   \n",
       "21101         Monroe, Bill, 1911-1996   \n",
       "\n",
       "                                                Subjects  \\\n",
       "0                England Fiction, Space and time Fiction   \n",
       "1      Video recordings for the hearing impaired, Mus...   \n",
       "2                                Popular music 1991 2000   \n",
       "3      Internet, Internet advertising, Information ne...   \n",
       "4                           Shag Dance, Ballroom dancing   \n",
       "...                                                  ...   \n",
       "21095  Spears Britney Juvenile literature, Singers Bi...   \n",
       "21096  Winter Fiction, Snow Juvenile fiction, Animals...   \n",
       "21097                                    Costume History   \n",
       "21099  Man woman relationships England Fiction, Famil...   \n",
       "21101                     Country music, Bluegrass music   \n",
       "\n",
       "                   Publisher PublicationYear  \n",
       "0                        NaN             NaN  \n",
       "1                        NaN             NaN  \n",
       "2                  Charisma,          p1992.  \n",
       "3                        NaN             NaN  \n",
       "4                        NaN             NaN  \n",
       "...                      ...             ...  \n",
       "21095                    NaN             NaN  \n",
       "21096  Houghton Mifflin Co.,           1999.  \n",
       "21097                    NaN             NaN  \n",
       "21099    St. Martin's Press,           1993.  \n",
       "21101             Hollywood,          p1989.  \n",
       "\n",
       "[18308 rows x 11 columns]"
      ]
     },
     "execution_count": 64,
     "metadata": {},
     "output_type": "execute_result"
    }
   ],
   "source": [
    "dt"
   ]
  },
  {
   "cell_type": "code",
   "execution_count": 65,
   "id": "30e09a5d",
   "metadata": {},
   "outputs": [
    {
     "data": {
      "text/plain": [
       "(18308, 11)"
      ]
     },
     "execution_count": 65,
     "metadata": {},
     "output_type": "execute_result"
    }
   ],
   "source": [
    "dt.shape"
   ]
  },
  {
   "cell_type": "code",
   "execution_count": 66,
   "id": "4b0fe09d",
   "metadata": {},
   "outputs": [
    {
     "data": {
      "text/html": [
       "<div>\n",
       "<style scoped>\n",
       "    .dataframe tbody tr th:only-of-type {\n",
       "        vertical-align: middle;\n",
       "    }\n",
       "\n",
       "    .dataframe tbody tr th {\n",
       "        vertical-align: top;\n",
       "    }\n",
       "\n",
       "    .dataframe thead th {\n",
       "        text-align: right;\n",
       "    }\n",
       "</style>\n",
       "<table border=\"1\" class=\"dataframe\">\n",
       "  <thead>\n",
       "    <tr style=\"text-align: right;\">\n",
       "      <th></th>\n",
       "      <th>ID</th>\n",
       "      <th>CheckoutYear</th>\n",
       "      <th>CheckoutMonth</th>\n",
       "      <th>Checkouts</th>\n",
       "    </tr>\n",
       "  </thead>\n",
       "  <tbody>\n",
       "    <tr>\n",
       "      <th>count</th>\n",
       "      <td>18308.000000</td>\n",
       "      <td>18308.0</td>\n",
       "      <td>18308.0</td>\n",
       "      <td>18308.000000</td>\n",
       "    </tr>\n",
       "    <tr>\n",
       "      <th>mean</th>\n",
       "      <td>42218.122406</td>\n",
       "      <td>2005.0</td>\n",
       "      <td>4.0</td>\n",
       "      <td>1.404686</td>\n",
       "    </tr>\n",
       "    <tr>\n",
       "      <th>std</th>\n",
       "      <td>6081.893654</td>\n",
       "      <td>0.0</td>\n",
       "      <td>0.0</td>\n",
       "      <td>0.660089</td>\n",
       "    </tr>\n",
       "    <tr>\n",
       "      <th>min</th>\n",
       "      <td>31654.000000</td>\n",
       "      <td>2005.0</td>\n",
       "      <td>4.0</td>\n",
       "      <td>1.000000</td>\n",
       "    </tr>\n",
       "    <tr>\n",
       "      <th>25%</th>\n",
       "      <td>36956.250000</td>\n",
       "      <td>2005.0</td>\n",
       "      <td>4.0</td>\n",
       "      <td>1.000000</td>\n",
       "    </tr>\n",
       "    <tr>\n",
       "      <th>50%</th>\n",
       "      <td>42220.000000</td>\n",
       "      <td>2005.0</td>\n",
       "      <td>4.0</td>\n",
       "      <td>1.000000</td>\n",
       "    </tr>\n",
       "    <tr>\n",
       "      <th>75%</th>\n",
       "      <td>47477.250000</td>\n",
       "      <td>2005.0</td>\n",
       "      <td>4.0</td>\n",
       "      <td>2.000000</td>\n",
       "    </tr>\n",
       "    <tr>\n",
       "      <th>max</th>\n",
       "      <td>52755.000000</td>\n",
       "      <td>2005.0</td>\n",
       "      <td>4.0</td>\n",
       "      <td>3.000000</td>\n",
       "    </tr>\n",
       "  </tbody>\n",
       "</table>\n",
       "</div>"
      ],
      "text/plain": [
       "                 ID  CheckoutYear  CheckoutMonth     Checkouts\n",
       "count  18308.000000       18308.0        18308.0  18308.000000\n",
       "mean   42218.122406        2005.0            4.0      1.404686\n",
       "std     6081.893654           0.0            0.0      0.660089\n",
       "min    31654.000000        2005.0            4.0      1.000000\n",
       "25%    36956.250000        2005.0            4.0      1.000000\n",
       "50%    42220.000000        2005.0            4.0      1.000000\n",
       "75%    47477.250000        2005.0            4.0      2.000000\n",
       "max    52755.000000        2005.0            4.0      3.000000"
      ]
     },
     "execution_count": 66,
     "metadata": {},
     "output_type": "execute_result"
    }
   ],
   "source": [
    "dt.describe()"
   ]
  },
  {
   "cell_type": "code",
   "execution_count": 67,
   "id": "c3051df5",
   "metadata": {},
   "outputs": [
    {
     "data": {
      "text/plain": [
       "ID                     0\n",
       "UsageClass             0\n",
       "CheckoutType           0\n",
       "CheckoutYear           0\n",
       "CheckoutMonth          0\n",
       "Checkouts              0\n",
       "Title                  0\n",
       "Creator            13141\n",
       "Subjects            1168\n",
       "Publisher          12519\n",
       "PublicationYear    12530\n",
       "dtype: int64"
      ]
     },
     "execution_count": 67,
     "metadata": {},
     "output_type": "execute_result"
    }
   ],
   "source": [
    "dt.isna().sum()"
   ]
  },
  {
   "cell_type": "code",
   "execution_count": 68,
   "id": "a84c90d8",
   "metadata": {},
   "outputs": [
    {
     "data": {
      "text/plain": [
       "0    Feature films\n",
       "dtype: object"
      ]
     },
     "execution_count": 68,
     "metadata": {},
     "output_type": "execute_result"
    }
   ],
   "source": [
    "dt['Subjects'].mode()"
   ]
  },
  {
   "cell_type": "code",
   "execution_count": 69,
   "id": "3a3048f5",
   "metadata": {},
   "outputs": [],
   "source": [
    "dt['Subjects'].fillna('Features films',inplace=True)"
   ]
  },
  {
   "cell_type": "code",
   "execution_count": 70,
   "id": "08bbb9b6",
   "metadata": {},
   "outputs": [],
   "source": [
    "nu=['Creator',  'Publisher', 'PublicationYear']\n",
    "for i in nu:\n",
    "    dt[i].fillna('Unknown',inplace=True)\n"
   ]
  },
  {
   "cell_type": "code",
   "execution_count": 71,
   "id": "a02ede4e",
   "metadata": {},
   "outputs": [
    {
     "data": {
      "text/plain": [
       "Index(['ID', 'UsageClass', 'CheckoutType', 'CheckoutYear', 'CheckoutMonth',\n",
       "       'Checkouts', 'Title', 'Creator', 'Subjects', 'Publisher',\n",
       "       'PublicationYear'],\n",
       "      dtype='object')"
      ]
     },
     "execution_count": 71,
     "metadata": {},
     "output_type": "execute_result"
    }
   ],
   "source": [
    "dt.columns"
   ]
  },
  {
   "cell_type": "code",
   "execution_count": 72,
   "id": "1c5210ef",
   "metadata": {},
   "outputs": [],
   "source": [
    "\n",
    "b=['UsageClass','Title','Creator',\n",
    " 'Subjects',\n",
    " 'Publisher',\n",
    " 'PublicationYear']\n",
    "for i in b:\n",
    "    dt[i]= label_encoder.fit_transform(dt[i])"
   ]
  },
  {
   "cell_type": "code",
   "execution_count": 73,
   "id": "abf04d3c",
   "metadata": {},
   "outputs": [
    {
     "data": {
      "image/png": "[encoded data removed]",
      "text/plain": [
       "<Figure size 1800x1656 with 7 Axes>"
      ]
     },
     "metadata": {
      "needs_background": "light"
     },
     "output_type": "display_data"
    }
   ],
   "source": [
    "plt.figure(figsize=(25,23))\n",
    "plt.title('Before Scaling', fontsize=18)\n",
    "features = ['ID' ,'Checkouts','Title' ,'Creator' ,'Subjects','Publisher','PublicationYear']\n",
    "for i in enumerate(features): \n",
    "    ax = plt.subplot(7, 3, i[0]+1)   \n",
    "    sns.kdeplot(dt[i[1]], color ='#FF7433', label=i[1])\n",
    "    plt.legend(fontsize=10)"
   ]
  },
  {
   "cell_type": "code",
   "execution_count": 74,
   "id": "64168f11",
   "metadata": {},
   "outputs": [],
   "source": [
    "for i in ['ID','Checkouts','Title' ,'Creator' ,'Subjects','Publisher','PublicationYear']:\n",
    "    dt[[i]] = min_max.fit_transform(dt[[i]])"
   ]
  },
  {
   "cell_type": "code",
   "execution_count": 75,
   "id": "f56e4ddb",
   "metadata": {},
   "outputs": [
    {
     "data": {
      "image/png": "[encoded data removed]",
      "text/plain": [
       "<Figure size 1800x1656 with 7 Axes>"
      ]
     },
     "metadata": {
      "needs_background": "light"
     },
     "output_type": "display_data"
    }
   ],
   "source": [
    "plt.figure(figsize=(25,23))\n",
    "plt.title('Before Scaling', fontsize=18)\n",
    "features = ['ID' ,'Checkouts','Title' ,'Creator' ,'Subjects','Publisher','PublicationYear']\n",
    "for i in enumerate(features): \n",
    "    ax = plt.subplot(7, 3, i[0]+1)   \n",
    "    sns.kdeplot(dt[i[1]], color ='#FF7433', label=i[1])\n",
    "    plt.legend(fontsize=10)"
   ]
  },
  {
   "cell_type": "code",
   "execution_count": null,
   "id": "4f48a07c",
   "metadata": {},
   "outputs": [],
   "source": []
  },
  {
   "cell_type": "code",
   "execution_count": null,
   "id": "fd2487e8",
   "metadata": {},
   "outputs": [],
   "source": []
  },
  {
   "cell_type": "code",
   "execution_count": 76,
   "id": "484b61df",
   "metadata": {},
   "outputs": [
    {
     "data": {
      "text/plain": [
       "<AxesSubplot:title={'center':'Heatmap of the Encoded Dataframe'}>"
      ]
     },
     "execution_count": 76,
     "metadata": {},
     "output_type": "execute_result"
    },
    {
     "data": {
      "image/png": "[encoded data removed]",
      "text/plain": [
       "<Figure size 2160x1440 with 2 Axes>"
      ]
     },
     "metadata": {
      "needs_background": "light"
     },
     "output_type": "display_data"
    }
   ],
   "source": [
    "corrmatrix = dt.corr()\n",
    "# Creating Heatmap using seaborn & Correlation matrix\n",
    "plt.figure(figsize=(30,20))\n",
    "plt.title('Heatmap of the Encoded Dataframe', fontsize=20)\n",
    "colormap = sns.color_palette('ch:s=.25,rot=-.25')\n",
    "sns.heatmap(corrmatrix, annot=True, linewidth=0.75, cmap=\"YlGnBu\")"
   ]
  },
  {
   "cell_type": "code",
   "execution_count": 77,
   "id": "5100f61a",
   "metadata": {},
   "outputs": [],
   "source": [
    "X=dt.drop(['UsageClass','CheckoutYear','CheckoutType','CheckoutMonth','ID'], axis=1)"
   ]
  },
  {
   "cell_type": "code",
   "execution_count": 78,
   "id": "6930689d",
   "metadata": {},
   "outputs": [
    {
     "data": {
      "text/html": [
       "<div>\n",
       "<style scoped>\n",
       "    .dataframe tbody tr th:only-of-type {\n",
       "        vertical-align: middle;\n",
       "    }\n",
       "\n",
       "    .dataframe tbody tr th {\n",
       "        vertical-align: top;\n",
       "    }\n",
       "\n",
       "    .dataframe thead th {\n",
       "        text-align: right;\n",
       "    }\n",
       "</style>\n",
       "<table border=\"1\" class=\"dataframe\">\n",
       "  <thead>\n",
       "    <tr style=\"text-align: right;\">\n",
       "      <th></th>\n",
       "      <th>Checkouts</th>\n",
       "      <th>Title</th>\n",
       "      <th>Creator</th>\n",
       "      <th>Subjects</th>\n",
       "      <th>Publisher</th>\n",
       "      <th>PublicationYear</th>\n",
       "    </tr>\n",
       "  </thead>\n",
       "  <tbody>\n",
       "    <tr>\n",
       "      <th>0</th>\n",
       "      <td>0.0</td>\n",
       "      <td>0.263014</td>\n",
       "      <td>0.907576</td>\n",
       "      <td>0.280910</td>\n",
       "      <td>0.914990</td>\n",
       "      <td>0.425676</td>\n",
       "    </tr>\n",
       "    <tr>\n",
       "      <th>1</th>\n",
       "      <td>0.5</td>\n",
       "      <td>0.638936</td>\n",
       "      <td>0.907576</td>\n",
       "      <td>0.944711</td>\n",
       "      <td>0.914990</td>\n",
       "      <td>0.425676</td>\n",
       "    </tr>\n",
       "    <tr>\n",
       "      <th>2</th>\n",
       "      <td>0.5</td>\n",
       "      <td>0.324357</td>\n",
       "      <td>0.924683</td>\n",
       "      <td>0.718752</td>\n",
       "      <td>0.161396</td>\n",
       "      <td>0.964527</td>\n",
       "    </tr>\n",
       "    <tr>\n",
       "      <th>3</th>\n",
       "      <td>0.5</td>\n",
       "      <td>0.205331</td>\n",
       "      <td>0.907576</td>\n",
       "      <td>0.463491</td>\n",
       "      <td>0.914990</td>\n",
       "      <td>0.425676</td>\n",
       "    </tr>\n",
       "    <tr>\n",
       "      <th>4</th>\n",
       "      <td>0.5</td>\n",
       "      <td>0.425520</td>\n",
       "      <td>0.907576</td>\n",
       "      <td>0.819246</td>\n",
       "      <td>0.914990</td>\n",
       "      <td>0.425676</td>\n",
       "    </tr>\n",
       "    <tr>\n",
       "      <th>...</th>\n",
       "      <td>...</td>\n",
       "      <td>...</td>\n",
       "      <td>...</td>\n",
       "      <td>...</td>\n",
       "      <td>...</td>\n",
       "      <td>...</td>\n",
       "    </tr>\n",
       "    <tr>\n",
       "      <th>21095</th>\n",
       "      <td>0.0</td>\n",
       "      <td>0.113508</td>\n",
       "      <td>0.907576</td>\n",
       "      <td>0.852812</td>\n",
       "      <td>0.914990</td>\n",
       "      <td>0.425676</td>\n",
       "    </tr>\n",
       "    <tr>\n",
       "      <th>21096</th>\n",
       "      <td>0.5</td>\n",
       "      <td>0.295515</td>\n",
       "      <td>0.756721</td>\n",
       "      <td>0.972457</td>\n",
       "      <td>0.409856</td>\n",
       "      <td>0.309122</td>\n",
       "    </tr>\n",
       "    <tr>\n",
       "      <th>21097</th>\n",
       "      <td>0.0</td>\n",
       "      <td>0.325012</td>\n",
       "      <td>0.907576</td>\n",
       "      <td>0.212154</td>\n",
       "      <td>0.914990</td>\n",
       "      <td>0.425676</td>\n",
       "    </tr>\n",
       "    <tr>\n",
       "      <th>21099</th>\n",
       "      <td>0.0</td>\n",
       "      <td>0.653193</td>\n",
       "      <td>0.168407</td>\n",
       "      <td>0.556202</td>\n",
       "      <td>0.812320</td>\n",
       "      <td>0.260135</td>\n",
       "    </tr>\n",
       "    <tr>\n",
       "      <th>21101</th>\n",
       "      <td>0.5</td>\n",
       "      <td>0.063036</td>\n",
       "      <td>0.627194</td>\n",
       "      <td>0.216417</td>\n",
       "      <td>0.404928</td>\n",
       "      <td>0.959459</td>\n",
       "    </tr>\n",
       "  </tbody>\n",
       "</table>\n",
       "<p>18308 rows × 6 columns</p>\n",
       "</div>"
      ],
      "text/plain": [
       "       Checkouts     Title   Creator  Subjects  Publisher  PublicationYear\n",
       "0            0.0  0.263014  0.907576  0.280910   0.914990         0.425676\n",
       "1            0.5  0.638936  0.907576  0.944711   0.914990         0.425676\n",
       "2            0.5  0.324357  0.924683  0.718752   0.161396         0.964527\n",
       "3            0.5  0.205331  0.907576  0.463491   0.914990         0.425676\n",
       "4            0.5  0.425520  0.907576  0.819246   0.914990         0.425676\n",
       "...          ...       ...       ...       ...        ...              ...\n",
       "21095        0.0  0.113508  0.907576  0.852812   0.914990         0.425676\n",
       "21096        0.5  0.295515  0.756721  0.972457   0.409856         0.309122\n",
       "21097        0.0  0.325012  0.907576  0.212154   0.914990         0.425676\n",
       "21099        0.0  0.653193  0.168407  0.556202   0.812320         0.260135\n",
       "21101        0.5  0.063036  0.627194  0.216417   0.404928         0.959459\n",
       "\n",
       "[18308 rows x 6 columns]"
      ]
     },
     "execution_count": 78,
     "metadata": {},
     "output_type": "execute_result"
    }
   ],
   "source": [
    "X"
   ]
  },
  {
   "cell_type": "code",
   "execution_count": 79,
   "id": "1d9058db",
   "metadata": {},
   "outputs": [],
   "source": [
    "x_test=X"
   ]
  },
  {
   "cell_type": "code",
   "execution_count": 80,
   "id": "de1bb65f",
   "metadata": {},
   "outputs": [
    {
     "name": "stdout",
     "output_type": "stream",
     "text": [
      "Testing Time: 0.0\n"
     ]
    }
   ],
   "source": [
    "start_time = time.time()\n",
    "predictions=logreg.predict(x_test)\n",
    "end_time = time.time()\n",
    "print('Testing Time:', round(end_time-start_time,2))"
   ]
  },
  {
   "cell_type": "code",
   "execution_count": 81,
   "id": "00ae62a6",
   "metadata": {},
   "outputs": [
    {
     "name": "stdout",
     "output_type": "stream",
     "text": [
      "Accuracy of Logistic regression classifier on training set: 0.72\n"
     ]
    }
   ],
   "source": [
    "print('Accuracy of Logistic regression classifier on training set:', round(logreg.score(x_train, y_train),2))"
   ]
  },
  {
   "cell_type": "code",
   "execution_count": 82,
   "id": "4621aebb",
   "metadata": {},
   "outputs": [
    {
     "data": {
      "text/plain": [
       "array([0, 0, 0, ..., 0, 0, 0])"
      ]
     },
     "execution_count": 82,
     "metadata": {},
     "output_type": "execute_result"
    }
   ],
   "source": [
    "predictions"
   ]
  },
  {
   "cell_type": "code",
   "execution_count": null,
   "id": "5afb4e6d",
   "metadata": {},
   "outputs": [],
   "source": [
    "a=list(label_encoder.inverse_transform(predictions))"
   ]
  },
  {
   "cell_type": "code",
   "execution_count": null,
   "id": "b9fc0f1a",
   "metadata": {},
   "outputs": [],
   "source": [
    "predictions.columns = ['MaterialType']"
   ]
  },
  {
   "cell_type": "code",
   "execution_count": null,
   "id": "2801c2e7",
   "metadata": {},
   "outputs": [],
   "source": [
    "predictions=pd.DataFrame(predictions)"
   ]
  },
  {
   "cell_type": "code",
   "execution_count": null,
   "id": "1f180996",
   "metadata": {},
   "outputs": [],
   "source": [
    "predictions['MaterialType'].value_counts()"
   ]
  },
  {
   "cell_type": "code",
   "execution_count": 83,
   "id": "5e8ba42f",
   "metadata": {},
   "outputs": [
    {
     "ename": "AttributeError",
     "evalue": "'numpy.ndarray' object has no attribute 'isna'",
     "output_type": "error",
     "traceback": [
      "\u001b[1;31m---------------------------------------------------------------------------\u001b[0m",
      "\u001b[1;31mAttributeError\u001b[0m                            Traceback (most recent call last)",
      "\u001b[1;32m<ipython-input-83-18e96e0204bd>\u001b[0m in \u001b[0;36m<module>\u001b[1;34m\u001b[0m\n\u001b[1;32m----> 1\u001b[1;33m \u001b[0mpredictions\u001b[0m\u001b[1;33m.\u001b[0m\u001b[0misna\u001b[0m\u001b[1;33m(\u001b[0m\u001b[1;33m)\u001b[0m\u001b[1;33m.\u001b[0m\u001b[0msum\u001b[0m\u001b[1;33m(\u001b[0m\u001b[1;33m)\u001b[0m\u001b[1;33m\u001b[0m\u001b[1;33m\u001b[0m\u001b[0m\n\u001b[0m",
      "\u001b[1;31mAttributeError\u001b[0m: 'numpy.ndarray' object has no attribute 'isna'"
     ]
    }
   ],
   "source": [
    "predictions.isna().sum()"
   ]
  },
  {
   "cell_type": "code",
   "execution_count": null,
   "id": "431e90c0",
   "metadata": {},
   "outputs": [],
   "source": [
    "x_test"
   ]
  },
  {
   "cell_type": "code",
   "execution_count": null,
   "id": "77907c78",
   "metadata": {},
   "outputs": [],
   "source": [
    "x_test.isna().sum()"
   ]
  },
  {
   "cell_type": "code",
   "execution_count": null,
   "id": "ad9934d2",
   "metadata": {},
   "outputs": [],
   "source": [
    "x_test.loc[:, 'MaterialType'] = predictions\n",
    "x_test"
   ]
  },
  {
   "cell_type": "code",
   "execution_count": null,
   "id": "6fac9df1",
   "metadata": {},
   "outputs": [],
   "source": [
    "a=x_test['MaterialType']=='VIDEOCASS'"
   ]
  },
  {
   "cell_type": "code",
   "execution_count": null,
   "id": "51620218",
   "metadata": {},
   "outputs": [],
   "source": [
    "a"
   ]
  },
  {
   "cell_type": "code",
   "execution_count": null,
   "id": "4233c198",
   "metadata": {},
   "outputs": [],
   "source": [
    "x_test.loc[a,:]"
   ]
  },
  {
   "cell_type": "code",
   "execution_count": 103,
   "id": "c936b600",
   "metadata": {},
   "outputs": [],
   "source": [
    "sample=dt[['ID']]"
   ]
  },
  {
   "cell_type": "code",
   "execution_count": 104,
   "id": "f8611b1a",
   "metadata": {},
   "outputs": [
    {
     "data": {
      "text/html": [
       "<div>\n",
       "<style scoped>\n",
       "    .dataframe tbody tr th:only-of-type {\n",
       "        vertical-align: middle;\n",
       "    }\n",
       "\n",
       "    .dataframe tbody tr th {\n",
       "        vertical-align: top;\n",
       "    }\n",
       "\n",
       "    .dataframe thead th {\n",
       "        text-align: right;\n",
       "    }\n",
       "</style>\n",
       "<table border=\"1\" class=\"dataframe\">\n",
       "  <thead>\n",
       "    <tr style=\"text-align: right;\">\n",
       "      <th></th>\n",
       "      <th>ID</th>\n",
       "    </tr>\n",
       "  </thead>\n",
       "  <tbody>\n",
       "    <tr>\n",
       "      <th>0</th>\n",
       "      <td>0.000000</td>\n",
       "    </tr>\n",
       "    <tr>\n",
       "      <th>1</th>\n",
       "      <td>0.000047</td>\n",
       "    </tr>\n",
       "    <tr>\n",
       "      <th>2</th>\n",
       "      <td>0.000095</td>\n",
       "    </tr>\n",
       "    <tr>\n",
       "      <th>3</th>\n",
       "      <td>0.000142</td>\n",
       "    </tr>\n",
       "    <tr>\n",
       "      <th>4</th>\n",
       "      <td>0.000190</td>\n",
       "    </tr>\n",
       "    <tr>\n",
       "      <th>...</th>\n",
       "      <td>...</td>\n",
       "    </tr>\n",
       "    <tr>\n",
       "      <th>21095</th>\n",
       "      <td>0.999716</td>\n",
       "    </tr>\n",
       "    <tr>\n",
       "      <th>21096</th>\n",
       "      <td>0.999763</td>\n",
       "    </tr>\n",
       "    <tr>\n",
       "      <th>21097</th>\n",
       "      <td>0.999810</td>\n",
       "    </tr>\n",
       "    <tr>\n",
       "      <th>21099</th>\n",
       "      <td>0.999905</td>\n",
       "    </tr>\n",
       "    <tr>\n",
       "      <th>21101</th>\n",
       "      <td>1.000000</td>\n",
       "    </tr>\n",
       "  </tbody>\n",
       "</table>\n",
       "<p>18308 rows × 1 columns</p>\n",
       "</div>"
      ],
      "text/plain": [
       "             ID\n",
       "0      0.000000\n",
       "1      0.000047\n",
       "2      0.000095\n",
       "3      0.000142\n",
       "4      0.000190\n",
       "...         ...\n",
       "21095  0.999716\n",
       "21096  0.999763\n",
       "21097  0.999810\n",
       "21099  0.999905\n",
       "21101  1.000000\n",
       "\n",
       "[18308 rows x 1 columns]"
      ]
     },
     "execution_count": 104,
     "metadata": {},
     "output_type": "execute_result"
    }
   ],
   "source": [
    "sample"
   ]
  },
  {
   "cell_type": "code",
   "execution_count": 105,
   "id": "611d66a3",
   "metadata": {},
   "outputs": [],
   "source": [
    "sample.loc[:, 'MaterialType'] = predictions"
   ]
  },
  {
   "cell_type": "code",
   "execution_count": 120,
   "id": "b929928f",
   "metadata": {},
   "outputs": [
    {
     "data": {
      "text/html": [
       "<div>\n",
       "<style scoped>\n",
       "    .dataframe tbody tr th:only-of-type {\n",
       "        vertical-align: middle;\n",
       "    }\n",
       "\n",
       "    .dataframe tbody tr th {\n",
       "        vertical-align: top;\n",
       "    }\n",
       "\n",
       "    .dataframe thead th {\n",
       "        text-align: right;\n",
       "    }\n",
       "</style>\n",
       "<table border=\"1\" class=\"dataframe\">\n",
       "  <thead>\n",
       "    <tr style=\"text-align: right;\">\n",
       "      <th></th>\n",
       "      <th></th>\n",
       "    </tr>\n",
       "    <tr>\n",
       "      <th>ID</th>\n",
       "      <th>MaterialType</th>\n",
       "    </tr>\n",
       "  </thead>\n",
       "  <tbody>\n",
       "    <tr>\n",
       "      <th>0.000000</th>\n",
       "      <th>BOOK</th>\n",
       "    </tr>\n",
       "    <tr>\n",
       "      <th>0.000047</th>\n",
       "      <th>BOOK</th>\n",
       "    </tr>\n",
       "    <tr>\n",
       "      <th>0.000095</th>\n",
       "      <th>BOOK</th>\n",
       "    </tr>\n",
       "    <tr>\n",
       "      <th>0.000142</th>\n",
       "      <th>BOOK</th>\n",
       "    </tr>\n",
       "    <tr>\n",
       "      <th>0.000190</th>\n",
       "      <th>BOOK</th>\n",
       "    </tr>\n",
       "    <tr>\n",
       "      <th>...</th>\n",
       "      <th>...</th>\n",
       "    </tr>\n",
       "    <tr>\n",
       "      <th>0.999716</th>\n",
       "      <th>BOOK</th>\n",
       "    </tr>\n",
       "    <tr>\n",
       "      <th>0.999763</th>\n",
       "      <th>BOOK</th>\n",
       "    </tr>\n",
       "    <tr>\n",
       "      <th>0.999810</th>\n",
       "      <th>BOOK</th>\n",
       "    </tr>\n",
       "    <tr>\n",
       "      <th>0.999905</th>\n",
       "      <th>BOOK</th>\n",
       "    </tr>\n",
       "    <tr>\n",
       "      <th>1.000000</th>\n",
       "      <th>BOOK</th>\n",
       "    </tr>\n",
       "  </tbody>\n",
       "</table>\n",
       "<p>18308 rows × 0 columns</p>\n",
       "</div>"
      ],
      "text/plain": [
       "Empty DataFrame\n",
       "Columns: []\n",
       "Index: [(0.0, BOOK), (4.739111890428305e-05, BOOK), (9.47822378085661e-05, BOOK), (0.00014217335671284914, BOOK), (0.00018956447561735423, BOOK), (0.00023695559452163728, BOOK), (0.00028434671342592033, BOOK), (0.0003317378323302034, BOOK), (0.0003791289512344864, BOOK), (0.00042652007013876947, BOOK), (0.0005213023079475576, BOOK), (0.0005686934268518407, BOOK), (0.0006160845457561237, SOUNDDISC), (0.0006634756646604067, BOOK), (0.0007582579024689728, BOOK), (0.0008056490213734779, BOOK), (0.000853040140277761, BOOK), (0.000900431259182044, BOOK), (0.0009478223780863271, BOOK), (0.0009952134969906101, BOOK), (0.0010426046158948932, BOOK), (0.0010899957347993983, BOOK), (0.0011373868537036813, BOOK), (0.0011847779726079644, BOOK), (0.0012321690915122474, BOOK), (0.0012795602104165305, BOOK), (0.0014217335671296016, BOOK), (0.0014691246860338847, BOOK), (0.0015165158049381677, BOOK), (0.0015639069238424508, BOOK), (0.0016112980427467338, BOOK), (0.0016586891616510169, BOOK), (0.001706080280555522, BOOK), (0.001753471399459805, BOOK), (0.001800862518364088, BOOK), (0.001848253637268371, BOOK), (0.0018956447561726542, BOOK), (0.0019430358750769372, BOOK), (0.0020852092317900084, BOOK), (0.0021799914695985745, BOOK), (0.0022273825885028575, BOOK), (0.0022747737074071406, BOOK), (0.0023221648263116457, BOOK), (0.0023695559452159287, BOOK), (0.0024169470641202118, BOOK), (0.002464338183024495, BOOK), (0.002511729301928778, BOOK), (0.002559120420833061, BOOK), (0.002606511539737566, BOOK), (0.002653902658641849, BOOK), (0.002701293777546132, BOOK), (0.002748684896450415, BOOK), (0.002796076015354698, BOOK), (0.0028434671342589812, BOOK), (0.0028908582531632643, BOOK), (0.0029382493720677694, BOOK), (0.0029856404909720524, BOOK), (0.0030330316098763355, BOOK), (0.0031278138476849016, BOOK), (0.0032225960854936897, BOOK), (0.0032699872043979727, BOOK), (0.003317378323302256, BOOK), (0.003364769442206539, BOOK), (0.003412160561110822, BOOK), (0.003459551680015105, BOOK), (0.003506942798919388, BOOK), (0.003554333917823893, BOOK), (0.003601725036728176, BOOK), (0.003649116155632459, BOOK), (0.003696507274536742, BOOK), (0.0037438983934410253, BOOK), (0.0037912895123453083, BOOK), (0.0038386806312498134, BOOK), (0.004028245106866946, BOOK), (0.004170418463580017, BOOK), (0.0042178095824843, BOOK), (0.004265200701388583, BOOK), (0.004312591820292866, BOOK), (0.004359982939197149, BOOK), (0.004454765177005937, BOOK), (0.00450215629591022, BOOK), (0.004549547414814503, BOOK), (0.004596938533718786, BOOK), (0.004644329652623069, BOOK), (0.004691720771527352, BOOK), (0.004739111890431635, BOOK), (0.0047865030093361405, BOOK), (0.0048338941282404235, BOOK), (0.004881285247144707, BOOK), (0.00492867636604899, BOOK), (0.004976067484953273, BOOK), (0.005023458603857556, BOOK), (0.005070849722762061, BOOK), (0.005118240841666344, BOOK), (0.00521302307947491, SOUNDDISC), (0.005260414198379193, BOOK), (0.005307805317283476, BOOK), (0.00549736979290083, BOOK), (0.005592152030709396, BOOK), (0.005639543149613679, BOOK), ...]\n",
       "\n",
       "[18308 rows x 0 columns]"
      ]
     },
     "execution_count": 120,
     "metadata": {},
     "output_type": "execute_result"
    }
   ],
   "source": [
    "sample.set_index(['ID','MaterialType'])"
   ]
  },
  {
   "cell_type": "code",
   "execution_count": 121,
   "id": "286000b2",
   "metadata": {},
   "outputs": [
    {
     "data": {
      "text/plain": [
       "ID              0\n",
       "MaterialType    0\n",
       "dtype: int64"
      ]
     },
     "execution_count": 121,
     "metadata": {},
     "output_type": "execute_result"
    }
   ],
   "source": [
    "sample.isna().sum()"
   ]
  },
  {
   "cell_type": "code",
   "execution_count": 122,
   "id": "1ee3b672",
   "metadata": {},
   "outputs": [
    {
     "data": {
      "text/plain": [
       "BOOK         18101\n",
       "SOUNDDISC      206\n",
       "VIDEODISC        1\n",
       "Name: MaterialType, dtype: int64"
      ]
     },
     "execution_count": 122,
     "metadata": {},
     "output_type": "execute_result"
    }
   ],
   "source": [
    "sample['MaterialType'].value_counts()"
   ]
  },
  {
   "cell_type": "code",
   "execution_count": 123,
   "id": "adfeb74e",
   "metadata": {},
   "outputs": [
    {
     "data": {
      "text/plain": [
       "Index(['ID', 'MaterialType'], dtype='object')"
      ]
     },
     "execution_count": 123,
     "metadata": {},
     "output_type": "execute_result"
    }
   ],
   "source": [
    "sample.columns"
   ]
  },
  {
   "cell_type": "code",
   "execution_count": 124,
   "id": "2fea154b",
   "metadata": {},
   "outputs": [],
   "source": [
    "sample.to_csv('sample2.csv')"
   ]
  },
  {
   "cell_type": "code",
   "execution_count": 90,
   "id": "a392e2b5",
   "metadata": {},
   "outputs": [
    {
     "data": {
      "text/plain": [
       "{'BOOK': 0,\n",
       " 'CR': 1,\n",
       " 'MIXED': 2,\n",
       " 'MUSIC': 3,\n",
       " 'SOUNDCASS': 4,\n",
       " 'SOUNDDISC': 5,\n",
       " 'VIDEOCASS': 6,\n",
       " 'VIDEODISC': 7}"
      ]
     },
     "execution_count": 90,
     "metadata": {},
     "output_type": "execute_result"
    }
   ],
   "source": [
    "lema"
   ]
  },
  {
   "cell_type": "code",
   "execution_count": 109,
   "id": "e94ecb0f",
   "metadata": {},
   "outputs": [],
   "source": [
    "sample[\"MaterialType\"].replace(0,\"BOOK\",inplace=True)"
   ]
  },
  {
   "cell_type": "code",
   "execution_count": 112,
   "id": "d9ef463e",
   "metadata": {},
   "outputs": [],
   "source": [
    "sample[\"MaterialType\"].replace(5,\"SOUNDDISC\",inplace=True)"
   ]
  },
  {
   "cell_type": "code",
   "execution_count": 113,
   "id": "03801697",
   "metadata": {},
   "outputs": [],
   "source": [
    "sample[\"MaterialType\"].replace(7,\"VIDEODISC\",inplace=True)"
   ]
  },
  {
   "cell_type": "code",
   "execution_count": 116,
   "id": "83e510a7",
   "metadata": {},
   "outputs": [
    {
     "data": {
      "text/html": [
       "<div>\n",
       "<style scoped>\n",
       "    .dataframe tbody tr th:only-of-type {\n",
       "        vertical-align: middle;\n",
       "    }\n",
       "\n",
       "    .dataframe tbody tr th {\n",
       "        vertical-align: top;\n",
       "    }\n",
       "\n",
       "    .dataframe thead th {\n",
       "        text-align: right;\n",
       "    }\n",
       "</style>\n",
       "<table border=\"1\" class=\"dataframe\">\n",
       "  <thead>\n",
       "    <tr style=\"text-align: right;\">\n",
       "      <th></th>\n",
       "      <th>ID</th>\n",
       "      <th>MaterialType</th>\n",
       "    </tr>\n",
       "  </thead>\n",
       "  <tbody>\n",
       "    <tr>\n",
       "      <th>0</th>\n",
       "      <td>0.000000</td>\n",
       "      <td>BOOK</td>\n",
       "    </tr>\n",
       "    <tr>\n",
       "      <th>1</th>\n",
       "      <td>0.000047</td>\n",
       "      <td>BOOK</td>\n",
       "    </tr>\n",
       "    <tr>\n",
       "      <th>2</th>\n",
       "      <td>0.000095</td>\n",
       "      <td>BOOK</td>\n",
       "    </tr>\n",
       "    <tr>\n",
       "      <th>3</th>\n",
       "      <td>0.000142</td>\n",
       "      <td>BOOK</td>\n",
       "    </tr>\n",
       "    <tr>\n",
       "      <th>4</th>\n",
       "      <td>0.000190</td>\n",
       "      <td>BOOK</td>\n",
       "    </tr>\n",
       "    <tr>\n",
       "      <th>...</th>\n",
       "      <td>...</td>\n",
       "      <td>...</td>\n",
       "    </tr>\n",
       "    <tr>\n",
       "      <th>21095</th>\n",
       "      <td>0.999716</td>\n",
       "      <td>BOOK</td>\n",
       "    </tr>\n",
       "    <tr>\n",
       "      <th>21096</th>\n",
       "      <td>0.999763</td>\n",
       "      <td>BOOK</td>\n",
       "    </tr>\n",
       "    <tr>\n",
       "      <th>21097</th>\n",
       "      <td>0.999810</td>\n",
       "      <td>BOOK</td>\n",
       "    </tr>\n",
       "    <tr>\n",
       "      <th>21099</th>\n",
       "      <td>0.999905</td>\n",
       "      <td>BOOK</td>\n",
       "    </tr>\n",
       "    <tr>\n",
       "      <th>21101</th>\n",
       "      <td>1.000000</td>\n",
       "      <td>BOOK</td>\n",
       "    </tr>\n",
       "  </tbody>\n",
       "</table>\n",
       "<p>18308 rows × 2 columns</p>\n",
       "</div>"
      ],
      "text/plain": [
       "             ID MaterialType\n",
       "0      0.000000         BOOK\n",
       "1      0.000047         BOOK\n",
       "2      0.000095         BOOK\n",
       "3      0.000142         BOOK\n",
       "4      0.000190         BOOK\n",
       "...         ...          ...\n",
       "21095  0.999716         BOOK\n",
       "21096  0.999763         BOOK\n",
       "21097  0.999810         BOOK\n",
       "21099  0.999905         BOOK\n",
       "21101  1.000000         BOOK\n",
       "\n",
       "[18308 rows x 2 columns]"
      ]
     },
     "execution_count": 116,
     "metadata": {},
     "output_type": "execute_result"
    }
   ],
   "source": [
    "sample"
   ]
  },
  {
   "cell_type": "code",
   "execution_count": 125,
   "id": "85159e68",
   "metadata": {},
   "outputs": [],
   "source": [
    "predictions = sample[['ID', 'MaterialType']]"
   ]
  },
  {
   "cell_type": "code",
   "execution_count": 127,
   "id": "9bb4e3c4",
   "metadata": {},
   "outputs": [],
   "source": [
    "predictions.to_csv('Submission.csv', index=False)"
   ]
  },
  {
   "cell_type": "code",
   "execution_count": null,
   "id": "a199589f",
   "metadata": {},
   "outputs": [],
   "source": []
  }
 ],
 "metadata": {
  "kernelspec": {
   "display_name": "Python 3",
   "language": "python",
   "name": "python3"
  },
  "language_info": {
   "codemirror_mode": {
    "name": "ipython",
    "version": 3
   },
   "file_extension": ".py",
   "mimetype": "text/x-python",
   "name": "python",
   "nbconvert_exporter": "python",
   "pygments_lexer": "ipython3",
   "version": "3.8.8"
  }
 },
 "nbformat": 4,
 "nbformat_minor": 5
}
